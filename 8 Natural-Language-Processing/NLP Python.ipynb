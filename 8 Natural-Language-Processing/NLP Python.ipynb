{
 "cells": [
  {
   "cell_type": "markdown",
   "metadata": {},
   "source": [
    "# NLP (Natural Language Processing) with Python\n",
    "    \n",
    "**Requirements: You will need to have NLTK installed, along with downloading the corpus for stopwords. To download everything with a conda installation, run the cell below.**"
   ]
  },
  {
   "cell_type": "code",
   "execution_count": null,
   "metadata": {
    "ExecuteTime": {
     "end_time": "2019-11-04T02:43:02.506826Z",
     "start_time": "2019-11-04T02:31:04.057400Z"
    }
   },
   "outputs": [],
   "source": [
    "# import nltk # Imports the library\n",
    "# nltk.download_shell() #Download the necessary datasets"
   ]
  },
  {
   "cell_type": "markdown",
   "metadata": {},
   "source": [
    "## Get the Data"
   ]
  },
  {
   "cell_type": "markdown",
   "metadata": {},
   "source": [
    "We'll be using a dataset from the [UCI datasets](https://archive.ics.uci.edu/ml/datasets/SMS+Spam+Collection)! This dataset is already located in the folder for this section."
   ]
  },
  {
   "cell_type": "markdown",
   "metadata": {},
   "source": [
    "The file we are using contains a collection of more than 5 thousand SMS phone messages. You can check out the **readme** file for more info.\n",
    "\n",
    "Let's go ahead and use rstrip() plus a list comprehension to get a list of all the lines of text messages:"
   ]
  },
  {
   "cell_type": "code",
   "execution_count": 2,
   "metadata": {
    "ExecuteTime": {
     "end_time": "2019-11-04T02:43:07.267784Z",
     "start_time": "2019-11-04T02:43:07.254826Z"
    }
   },
   "outputs": [
    {
     "name": "stdout",
     "output_type": "stream",
     "text": [
      "5574\n"
     ]
    }
   ],
   "source": [
    "messages = [line.rstrip() for line in open('smsspamcollection/SMSSpamCollection')]\n",
    "print(len(messages))"
   ]
  },
  {
   "cell_type": "markdown",
   "metadata": {},
   "source": [
    "A collection of texts is also sometimes called \"corpus\". Let's print the first ten messages and number them using **enumerate**:"
   ]
  },
  {
   "cell_type": "code",
   "execution_count": 3,
   "metadata": {
    "ExecuteTime": {
     "end_time": "2019-11-04T02:44:05.719419Z",
     "start_time": "2019-11-04T02:44:05.715465Z"
    }
   },
   "outputs": [
    {
     "name": "stdout",
     "output_type": "stream",
     "text": [
      "0 ham\tGo until jurong point, crazy.. Available only in bugis n great world la e buffet... Cine there got amore wat...\n",
      "\n",
      "\n",
      "1 ham\tOk lar... Joking wif u oni...\n",
      "\n",
      "\n",
      "2 spam\tFree entry in 2 a wkly comp to win FA Cup final tkts 21st May 2005. Text FA to 87121 to receive entry question(std txt rate)T&C's apply 08452810075over18's\n",
      "\n",
      "\n",
      "3 ham\tU dun say so early hor... U c already then say...\n",
      "\n",
      "\n",
      "4 ham\tNah I don't think he goes to usf, he lives around here though\n",
      "\n",
      "\n",
      "5 spam\tFreeMsg Hey there darling it's been 3 week's now and no word back! I'd like some fun you up for it still? Tb ok! XxX std chgs to send, Â£1.50 to rcv\n",
      "\n",
      "\n",
      "6 ham\tEven my brother is not like to speak with me. They treat me like aids patent.\n",
      "\n",
      "\n",
      "7 ham\tAs per your request 'Melle Melle (Oru Minnaminunginte Nurungu Vettam)' has been set as your callertune for all Callers. Press *9 to copy your friends Callertune\n",
      "\n",
      "\n",
      "8 spam\tWINNER!! As a valued network customer you have been selected to receivea Â£900 prize reward! To claim call 09061701461. Claim code KL341. Valid 12 hours only.\n",
      "\n",
      "\n",
      "9 spam\tHad your mobile 11 months or more? U R entitled to Update to the latest colour mobiles with camera for Free! Call The Mobile Update Co FREE on 08002986030\n",
      "\n",
      "\n"
     ]
    }
   ],
   "source": [
    "for message_no, message in enumerate(messages[:10]):\n",
    "    print(message_no, message)\n",
    "    print('\\n')"
   ]
  },
  {
   "cell_type": "markdown",
   "metadata": {},
   "source": [
    "Due to the spacing we can tell that this is a [TSV](http://en.wikipedia.org/wiki/Tab-separated_values) (\"tab separated values\") file, where the first column is a label saying whether the given message is a normal message (commonly known as \"ham\") or \"spam\". The second column is the message itself. (Note our numbers aren't part of the file, they are just from the **enumerate** call).\n",
    "\n",
    "Using these labeled ham and spam examples, we'll **train a machine learning model to learn to discriminate between ham/spam automatically**. Then, with a trained model, we'll be able to **classify arbitrary unlabeled messages** as ham or spam.\n",
    "\n",
    "From the official SciKit Learn documentation, we can visualize our process:"
   ]
  },
  {
   "cell_type": "markdown",
   "metadata": {},
   "source": [
    "<img src='http://www.astroml.org/sklearn_tutorial/_images/plot_ML_flow_chart_3.png' width=600/>"
   ]
  },
  {
   "cell_type": "markdown",
   "metadata": {},
   "source": [
    "Instead of parsing TSV manually using Python, we can just take advantage of pandas! Let's go ahead and import it!"
   ]
  },
  {
   "cell_type": "code",
   "execution_count": 4,
   "metadata": {
    "ExecuteTime": {
     "end_time": "2019-11-04T02:49:02.241175Z",
     "start_time": "2019-11-04T02:49:01.923058Z"
    }
   },
   "outputs": [],
   "source": [
    "import pandas as pd"
   ]
  },
  {
   "cell_type": "markdown",
   "metadata": {},
   "source": [
    "We'll use **read_csv** and make note of the **sep** argument, we can also specify the desired column names by passing in a list of *names*."
   ]
  },
  {
   "cell_type": "code",
   "execution_count": 5,
   "metadata": {
    "ExecuteTime": {
     "end_time": "2019-11-04T02:49:03.418548Z",
     "start_time": "2019-11-04T02:49:03.392619Z"
    }
   },
   "outputs": [
    {
     "data": {
      "text/html": [
       "<div>\n",
       "<style scoped>\n",
       "    .dataframe tbody tr th:only-of-type {\n",
       "        vertical-align: middle;\n",
       "    }\n",
       "\n",
       "    .dataframe tbody tr th {\n",
       "        vertical-align: top;\n",
       "    }\n",
       "\n",
       "    .dataframe thead th {\n",
       "        text-align: right;\n",
       "    }\n",
       "</style>\n",
       "<table border=\"1\" class=\"dataframe\">\n",
       "  <thead>\n",
       "    <tr style=\"text-align: right;\">\n",
       "      <th></th>\n",
       "      <th>label</th>\n",
       "      <th>message</th>\n",
       "    </tr>\n",
       "  </thead>\n",
       "  <tbody>\n",
       "    <tr>\n",
       "      <th>0</th>\n",
       "      <td>ham</td>\n",
       "      <td>Go until jurong point, crazy.. Available only ...</td>\n",
       "    </tr>\n",
       "    <tr>\n",
       "      <th>1</th>\n",
       "      <td>ham</td>\n",
       "      <td>Ok lar... Joking wif u oni...</td>\n",
       "    </tr>\n",
       "    <tr>\n",
       "      <th>2</th>\n",
       "      <td>spam</td>\n",
       "      <td>Free entry in 2 a wkly comp to win FA Cup fina...</td>\n",
       "    </tr>\n",
       "    <tr>\n",
       "      <th>3</th>\n",
       "      <td>ham</td>\n",
       "      <td>U dun say so early hor... U c already then say...</td>\n",
       "    </tr>\n",
       "    <tr>\n",
       "      <th>4</th>\n",
       "      <td>ham</td>\n",
       "      <td>Nah I don't think he goes to usf, he lives aro...</td>\n",
       "    </tr>\n",
       "  </tbody>\n",
       "</table>\n",
       "</div>"
      ],
      "text/plain": [
       "  label                                            message\n",
       "0   ham  Go until jurong point, crazy.. Available only ...\n",
       "1   ham                      Ok lar... Joking wif u oni...\n",
       "2  spam  Free entry in 2 a wkly comp to win FA Cup fina...\n",
       "3   ham  U dun say so early hor... U c already then say...\n",
       "4   ham  Nah I don't think he goes to usf, he lives aro..."
      ]
     },
     "execution_count": 5,
     "metadata": {},
     "output_type": "execute_result"
    }
   ],
   "source": [
    "messages = pd.read_csv('smsspamcollection/SMSSpamCollection', sep='\\t',\n",
    "                           names=[\"label\", \"message\"])\n",
    "messages.head()"
   ]
  },
  {
   "cell_type": "markdown",
   "metadata": {},
   "source": [
    "## Exploratory Data Analysis\n",
    "\n",
    "Let's check out some of the stats with some plots and the built-in methods in pandas!"
   ]
  },
  {
   "cell_type": "code",
   "execution_count": 7,
   "metadata": {
    "ExecuteTime": {
     "end_time": "2019-11-04T02:50:12.232186Z",
     "start_time": "2019-11-04T02:50:12.215263Z"
    }
   },
   "outputs": [
    {
     "data": {
      "text/html": [
       "<div>\n",
       "<style scoped>\n",
       "    .dataframe tbody tr th:only-of-type {\n",
       "        vertical-align: middle;\n",
       "    }\n",
       "\n",
       "    .dataframe tbody tr th {\n",
       "        vertical-align: top;\n",
       "    }\n",
       "\n",
       "    .dataframe thead th {\n",
       "        text-align: right;\n",
       "    }\n",
       "</style>\n",
       "<table border=\"1\" class=\"dataframe\">\n",
       "  <thead>\n",
       "    <tr style=\"text-align: right;\">\n",
       "      <th></th>\n",
       "      <th>label</th>\n",
       "      <th>message</th>\n",
       "    </tr>\n",
       "  </thead>\n",
       "  <tbody>\n",
       "    <tr>\n",
       "      <th>count</th>\n",
       "      <td>5572</td>\n",
       "      <td>5572</td>\n",
       "    </tr>\n",
       "    <tr>\n",
       "      <th>unique</th>\n",
       "      <td>2</td>\n",
       "      <td>5169</td>\n",
       "    </tr>\n",
       "    <tr>\n",
       "      <th>top</th>\n",
       "      <td>ham</td>\n",
       "      <td>Sorry, I'll call later</td>\n",
       "    </tr>\n",
       "    <tr>\n",
       "      <th>freq</th>\n",
       "      <td>4825</td>\n",
       "      <td>30</td>\n",
       "    </tr>\n",
       "  </tbody>\n",
       "</table>\n",
       "</div>"
      ],
      "text/plain": [
       "       label                 message\n",
       "count   5572                    5572\n",
       "unique     2                    5169\n",
       "top      ham  Sorry, I'll call later\n",
       "freq    4825                      30"
      ]
     },
     "execution_count": 7,
     "metadata": {},
     "output_type": "execute_result"
    }
   ],
   "source": [
    "messages.describe()"
   ]
  },
  {
   "cell_type": "markdown",
   "metadata": {},
   "source": [
    "Let's use **groupby** to use describe by label, this way we can begin to think about the features that separate ham and spam!"
   ]
  },
  {
   "cell_type": "code",
   "execution_count": 14,
   "metadata": {
    "ExecuteTime": {
     "end_time": "2019-11-04T02:52:19.297379Z",
     "start_time": "2019-11-04T02:52:19.270451Z"
    }
   },
   "outputs": [
    {
     "data": {
      "text/html": [
       "<div>\n",
       "<style scoped>\n",
       "    .dataframe tbody tr th:only-of-type {\n",
       "        vertical-align: middle;\n",
       "    }\n",
       "\n",
       "    .dataframe tbody tr th {\n",
       "        vertical-align: top;\n",
       "    }\n",
       "\n",
       "    .dataframe thead tr th {\n",
       "        text-align: left;\n",
       "    }\n",
       "\n",
       "    .dataframe thead tr:last-of-type th {\n",
       "        text-align: right;\n",
       "    }\n",
       "</style>\n",
       "<table border=\"1\" class=\"dataframe\">\n",
       "  <thead>\n",
       "    <tr>\n",
       "      <th></th>\n",
       "      <th colspan=\"4\" halign=\"left\">message</th>\n",
       "    </tr>\n",
       "    <tr>\n",
       "      <th></th>\n",
       "      <th>count</th>\n",
       "      <th>unique</th>\n",
       "      <th>top</th>\n",
       "      <th>freq</th>\n",
       "    </tr>\n",
       "    <tr>\n",
       "      <th>label</th>\n",
       "      <th></th>\n",
       "      <th></th>\n",
       "      <th></th>\n",
       "      <th></th>\n",
       "    </tr>\n",
       "  </thead>\n",
       "  <tbody>\n",
       "    <tr>\n",
       "      <th>ham</th>\n",
       "      <td>4825</td>\n",
       "      <td>4516</td>\n",
       "      <td>Sorry, I'll call later</td>\n",
       "      <td>30</td>\n",
       "    </tr>\n",
       "    <tr>\n",
       "      <th>spam</th>\n",
       "      <td>747</td>\n",
       "      <td>653</td>\n",
       "      <td>Please call our customer service representativ...</td>\n",
       "      <td>4</td>\n",
       "    </tr>\n",
       "  </tbody>\n",
       "</table>\n",
       "</div>"
      ],
      "text/plain": [
       "      message                                                               \n",
       "        count unique                                                top freq\n",
       "label                                                                       \n",
       "ham      4825   4516                             Sorry, I'll call later   30\n",
       "spam      747    653  Please call our customer service representativ...    4"
      ]
     },
     "execution_count": 14,
     "metadata": {},
     "output_type": "execute_result"
    }
   ],
   "source": [
    "messages.groupby('label').describe()"
   ]
  },
  {
   "cell_type": "markdown",
   "metadata": {},
   "source": [
    "As we continue our analysis we want to start thinking about the features we are going to be using. This goes along with the general idea of [feature engineering](https://en.wikipedia.org/wiki/Feature_engineering). The better your domain knowledge on the data, the better your ability to engineer more features from it. Feature engineering is a very large part of spam detection in general. I encourage you to read up on the topic!\n",
    "\n",
    "Let's make a new column to detect how long the text messages are:"
   ]
  },
  {
   "cell_type": "code",
   "execution_count": 15,
   "metadata": {
    "ExecuteTime": {
     "end_time": "2019-11-04T02:53:06.020828Z",
     "start_time": "2019-11-04T02:53:06.011852Z"
    }
   },
   "outputs": [
    {
     "data": {
      "text/html": [
       "<div>\n",
       "<style scoped>\n",
       "    .dataframe tbody tr th:only-of-type {\n",
       "        vertical-align: middle;\n",
       "    }\n",
       "\n",
       "    .dataframe tbody tr th {\n",
       "        vertical-align: top;\n",
       "    }\n",
       "\n",
       "    .dataframe thead th {\n",
       "        text-align: right;\n",
       "    }\n",
       "</style>\n",
       "<table border=\"1\" class=\"dataframe\">\n",
       "  <thead>\n",
       "    <tr style=\"text-align: right;\">\n",
       "      <th></th>\n",
       "      <th>label</th>\n",
       "      <th>message</th>\n",
       "      <th>length</th>\n",
       "    </tr>\n",
       "  </thead>\n",
       "  <tbody>\n",
       "    <tr>\n",
       "      <th>0</th>\n",
       "      <td>ham</td>\n",
       "      <td>Go until jurong point, crazy.. Available only ...</td>\n",
       "      <td>111</td>\n",
       "    </tr>\n",
       "    <tr>\n",
       "      <th>1</th>\n",
       "      <td>ham</td>\n",
       "      <td>Ok lar... Joking wif u oni...</td>\n",
       "      <td>29</td>\n",
       "    </tr>\n",
       "    <tr>\n",
       "      <th>2</th>\n",
       "      <td>spam</td>\n",
       "      <td>Free entry in 2 a wkly comp to win FA Cup fina...</td>\n",
       "      <td>155</td>\n",
       "    </tr>\n",
       "    <tr>\n",
       "      <th>3</th>\n",
       "      <td>ham</td>\n",
       "      <td>U dun say so early hor... U c already then say...</td>\n",
       "      <td>49</td>\n",
       "    </tr>\n",
       "    <tr>\n",
       "      <th>4</th>\n",
       "      <td>ham</td>\n",
       "      <td>Nah I don't think he goes to usf, he lives aro...</td>\n",
       "      <td>61</td>\n",
       "    </tr>\n",
       "  </tbody>\n",
       "</table>\n",
       "</div>"
      ],
      "text/plain": [
       "  label                                            message  length\n",
       "0   ham  Go until jurong point, crazy.. Available only ...     111\n",
       "1   ham                      Ok lar... Joking wif u oni...      29\n",
       "2  spam  Free entry in 2 a wkly comp to win FA Cup fina...     155\n",
       "3   ham  U dun say so early hor... U c already then say...      49\n",
       "4   ham  Nah I don't think he goes to usf, he lives aro...      61"
      ]
     },
     "execution_count": 15,
     "metadata": {},
     "output_type": "execute_result"
    }
   ],
   "source": [
    "messages['length'] = messages['message'].apply(len)\n",
    "messages.head()"
   ]
  },
  {
   "cell_type": "markdown",
   "metadata": {},
   "source": [
    "### Data Visualization\n",
    "Let's visualize this! Let's do the imports:"
   ]
  },
  {
   "cell_type": "code",
   "execution_count": 16,
   "metadata": {
    "ExecuteTime": {
     "end_time": "2019-11-04T02:53:28.795049Z",
     "start_time": "2019-11-04T02:53:28.213452Z"
    }
   },
   "outputs": [],
   "source": [
    "import matplotlib.pyplot as plt\n",
    "import seaborn as sns\n",
    "\n",
    "%matplotlib inline"
   ]
  },
  {
   "cell_type": "code",
   "execution_count": 17,
   "metadata": {
    "ExecuteTime": {
     "end_time": "2019-11-04T02:53:40.876740Z",
     "start_time": "2019-11-04T02:53:40.624382Z"
    }
   },
   "outputs": [
    {
     "data": {
      "text/plain": [
       "<matplotlib.axes._subplots.AxesSubplot at 0x1fb98c90198>"
      ]
     },
     "execution_count": 17,
     "metadata": {},
     "output_type": "execute_result"
    },
    {
     "data": {
      "image/png": "[encoded data removed]",
      "text/plain": [
       "<Figure size 432x288 with 1 Axes>"
      ]
     },
     "metadata": {
      "needs_background": "light"
     },
     "output_type": "display_data"
    }
   ],
   "source": [
    "messages['length'].plot(bins=50, kind='hist') "
   ]
  },
  {
   "cell_type": "markdown",
   "metadata": {},
   "source": [
    "Play around with the bin size! Looks like text length may be a good feature to think about! Let's try to explain why the x-axis goes all the way to 1000ish, this must mean that there is some really long message!"
   ]
  },
  {
   "cell_type": "code",
   "execution_count": 18,
   "metadata": {
    "ExecuteTime": {
     "end_time": "2019-11-04T02:53:47.931926Z",
     "start_time": "2019-11-04T02:53:47.922982Z"
    }
   },
   "outputs": [
    {
     "data": {
      "text/plain": [
       "count    5572.000000\n",
       "mean       80.489950\n",
       "std        59.942907\n",
       "min         2.000000\n",
       "25%        36.000000\n",
       "50%        62.000000\n",
       "75%       122.000000\n",
       "max       910.000000\n",
       "Name: length, dtype: float64"
      ]
     },
     "execution_count": 18,
     "metadata": {},
     "output_type": "execute_result"
    }
   ],
   "source": [
    "messages.length.describe()"
   ]
  },
  {
   "cell_type": "markdown",
   "metadata": {},
   "source": [
    "Woah! 910 characters, let's use masking to find this message:"
   ]
  },
  {
   "cell_type": "code",
   "execution_count": 21,
   "metadata": {
    "ExecuteTime": {
     "end_time": "2019-11-04T02:55:26.123842Z",
     "start_time": "2019-11-04T02:55:26.115864Z"
    }
   },
   "outputs": [
    {
     "data": {
      "text/plain": [
       "\"For me the love should start with attraction.i should feel that I need her every time around me.she should be the first thing which comes in my thoughts.I would start the day and end it with her.she should be there every time I dream.love will be then when my every breath has her name.my life should happen around her.my life will be named to her.I would cry for her.will give all my happiness and take all her sorrows.I will be ready to fight with anyone for her.I will be in love when I will be doing the craziest things for her.love will be when I don't have to proove anyone that my girl is the most beautiful lady on the whole planet.I will always be singing praises for her.love will be when I start up making chicken curry and end up makiing sambar.life will be the most beautiful then.will get every morning and thank god for the day because she is with me.I would like to say a lot..will tell later..\""
      ]
     },
     "execution_count": 21,
     "metadata": {},
     "output_type": "execute_result"
    }
   ],
   "source": [
    "messages[messages['length'] == 910]['message'].iloc[0]"
   ]
  },
  {
   "cell_type": "markdown",
   "metadata": {},
   "source": [
    "Looks like we have some sort of Romeo sending texts! But let's focus back on the idea of trying to see if message length is a distinguishing feature between ham and spam:"
   ]
  },
  {
   "cell_type": "code",
   "execution_count": 22,
   "metadata": {
    "ExecuteTime": {
     "end_time": "2019-11-04T02:57:06.800151Z",
     "start_time": "2019-11-04T02:57:06.413219Z"
    }
   },
   "outputs": [
    {
     "data": {
      "text/plain": [
       "array([<matplotlib.axes._subplots.AxesSubplot object at 0x000001FB992EA470>,\n",
       "       <matplotlib.axes._subplots.AxesSubplot object at 0x000001FB9934C4A8>],\n",
       "      dtype=object)"
      ]
     },
     "execution_count": 22,
     "metadata": {},
     "output_type": "execute_result"
    },
    {
     "data": {
      "image/png": "[encoded data removed]",
      "text/plain": [
       "<Figure size 864x288 with 2 Axes>"
      ]
     },
     "metadata": {
      "needs_background": "light"
     },
     "output_type": "display_data"
    }
   ],
   "source": [
    "messages[messages['length'] < 400].hist(column='length', by='label', bins=50,figsize=(12,4))"
   ]
  },
  {
   "cell_type": "code",
   "execution_count": 26,
   "metadata": {
    "ExecuteTime": {
     "end_time": "2019-11-04T02:59:13.486830Z",
     "start_time": "2019-11-04T02:59:13.478852Z"
    }
   },
   "outputs": [
    {
     "data": {
      "text/html": [
       "<div>\n",
       "<style scoped>\n",
       "    .dataframe tbody tr th:only-of-type {\n",
       "        vertical-align: middle;\n",
       "    }\n",
       "\n",
       "    .dataframe tbody tr th {\n",
       "        vertical-align: top;\n",
       "    }\n",
       "\n",
       "    .dataframe thead th {\n",
       "        text-align: right;\n",
       "    }\n",
       "</style>\n",
       "<table border=\"1\" class=\"dataframe\">\n",
       "  <thead>\n",
       "    <tr style=\"text-align: right;\">\n",
       "      <th></th>\n",
       "      <th>label</th>\n",
       "      <th>message</th>\n",
       "      <th>length</th>\n",
       "      <th>words</th>\n",
       "    </tr>\n",
       "  </thead>\n",
       "  <tbody>\n",
       "    <tr>\n",
       "      <th>0</th>\n",
       "      <td>ham</td>\n",
       "      <td>Go until jurong point, crazy.. Available only ...</td>\n",
       "      <td>111</td>\n",
       "      <td>20</td>\n",
       "    </tr>\n",
       "    <tr>\n",
       "      <th>1</th>\n",
       "      <td>ham</td>\n",
       "      <td>Ok lar... Joking wif u oni...</td>\n",
       "      <td>29</td>\n",
       "      <td>6</td>\n",
       "    </tr>\n",
       "    <tr>\n",
       "      <th>2</th>\n",
       "      <td>spam</td>\n",
       "      <td>Free entry in 2 a wkly comp to win FA Cup fina...</td>\n",
       "      <td>155</td>\n",
       "      <td>28</td>\n",
       "    </tr>\n",
       "    <tr>\n",
       "      <th>3</th>\n",
       "      <td>ham</td>\n",
       "      <td>U dun say so early hor... U c already then say...</td>\n",
       "      <td>49</td>\n",
       "      <td>11</td>\n",
       "    </tr>\n",
       "    <tr>\n",
       "      <th>4</th>\n",
       "      <td>ham</td>\n",
       "      <td>Nah I don't think he goes to usf, he lives aro...</td>\n",
       "      <td>61</td>\n",
       "      <td>13</td>\n",
       "    </tr>\n",
       "  </tbody>\n",
       "</table>\n",
       "</div>"
      ],
      "text/plain": [
       "  label                                            message  length  words\n",
       "0   ham  Go until jurong point, crazy.. Available only ...     111     20\n",
       "1   ham                      Ok lar... Joking wif u oni...      29      6\n",
       "2  spam  Free entry in 2 a wkly comp to win FA Cup fina...     155     28\n",
       "3   ham  U dun say so early hor... U c already then say...      49     11\n",
       "4   ham  Nah I don't think he goes to usf, he lives aro...      61     13"
      ]
     },
     "execution_count": 26,
     "metadata": {},
     "output_type": "execute_result"
    }
   ],
   "source": [
    "messages.head()"
   ]
  },
  {
   "cell_type": "code",
   "execution_count": null,
   "metadata": {},
   "outputs": [],
   "source": [
    "messages['words'] = messages['message'].apply(lambda x: len(x.split()))"
   ]
  },
  {
   "cell_type": "code",
   "execution_count": 25,
   "metadata": {
    "ExecuteTime": {
     "end_time": "2019-11-04T02:58:45.065726Z",
     "start_time": "2019-11-04T02:58:44.631888Z"
    }
   },
   "outputs": [
    {
     "data": {
      "text/plain": [
       "array([<matplotlib.axes._subplots.AxesSubplot object at 0x000001FB994F9400>,\n",
       "       <matplotlib.axes._subplots.AxesSubplot object at 0x000001FB99522780>],\n",
       "      dtype=object)"
      ]
     },
     "execution_count": 25,
     "metadata": {},
     "output_type": "execute_result"
    },
    {
     "data": {
      "image/png": "[encoded data removed]",
      "text/plain": [
       "<Figure size 864x288 with 2 Axes>"
      ]
     },
     "metadata": {
      "needs_background": "light"
     },
     "output_type": "display_data"
    }
   ],
   "source": [
    "messages.hist(column='words', by='label', bins=50,figsize=(12,4))"
   ]
  },
  {
   "cell_type": "markdown",
   "metadata": {},
   "source": [
    "Very interesting! Through just basic EDA we've been able to discover a trend that spam messages tend to have more characters. (Sorry Romeo!)\n",
    "\n",
    "Now let's begin to process the data so we can eventually use it with SciKit Learn!"
   ]
  },
  {
   "cell_type": "markdown",
   "metadata": {},
   "source": [
    "## Text Pre-processing"
   ]
  },
  {
   "cell_type": "markdown",
   "metadata": {},
   "source": [
    "Our main issue with our data is that it is all in text format (strings). The classification algorithms that we've learned about so far will need some sort of numerical feature vector in order to perform the classification task. There are actually many methods to convert a corpus to a vector format. The simplest is the the [bag-of-words](http://en.wikipedia.org/wiki/Bag-of-words_model) approach, where each unique word in a text will be represented by one number.\n",
    "\n",
    "\n",
    "In this section we'll convert the raw messages (sequence of characters) into vectors (sequences of numbers).\n",
    "\n",
    "As a first step, let's write a function that will split a message into its individual words and return a list. We'll also remove very common words, ('the', 'a', etc..). To do this we will take advantage of the NLTK library. It's pretty much the standard library in Python for processing text and has a lot of useful features. We'll only use some of the basic ones here.\n",
    "\n",
    "Let's create a function that will process the string in the message column, then we can just use **apply()** in pandas do process all the text in the DataFrame.\n",
    "\n",
    "First removing punctuation. We can just take advantage of Python's built-in **string** library to get a quick list of all the possible punctuation:"
   ]
  },
  {
   "cell_type": "code",
   "execution_count": 27,
   "metadata": {
    "ExecuteTime": {
     "end_time": "2019-11-04T03:09:31.283454Z",
     "start_time": "2019-11-04T03:09:31.276503Z"
    }
   },
   "outputs": [
    {
     "name": "stdout",
     "output_type": "stream",
     "text": [
      "!\"#$%&'()*+,-./:;<=>?@[\\]^_`{|}~\n",
      "['S', 'a', 'm', 'p', 'l', 'e', ' ', 'm', 'e', 's', 's', 'a', 'g', 'e', ' ', 'N', 'o', 't', 'i', 'c', 'e', ' ', 'i', 't', ' ', 'h', 'a', 's', ' ', 'p', 'u', 'n', 'c', 't', 'u', 'a', 't', 'i', 'o', 'n']\n",
      "Sample message Notice it has punctuation\n"
     ]
    }
   ],
   "source": [
    "import string\n",
    "\n",
    "mess = 'Sample message! Notice: it has punctuation.'\n",
    "\n",
    "print(string.punctuation)\n",
    "# Check characters to see if they are in punctuation\n",
    "nopunc = [char for char in mess if char not in string.punctuation]\n",
    "print(nopunc)\n",
    "# Join the characters again to form the string.\n",
    "nopunc = ''.join(nopunc)\n",
    "print(nopunc)"
   ]
  },
  {
   "cell_type": "markdown",
   "metadata": {},
   "source": [
    "Now let's see how to remove stopwords. We can impot a list of english stopwords from NLTK (check the documentation for more languages and info)."
   ]
  },
  {
   "cell_type": "code",
   "execution_count": 35,
   "metadata": {
    "ExecuteTime": {
     "end_time": "2019-11-04T03:13:25.583086Z",
     "start_time": "2019-11-04T03:13:25.576139Z"
    },
    "scrolled": true
   },
   "outputs": [
    {
     "data": {
      "text/plain": [
       "['i', 'me', 'my', 'myself', 'we', 'our', 'ours', 'ourselves', 'you', \"you're\"]"
      ]
     },
     "execution_count": 35,
     "metadata": {},
     "output_type": "execute_result"
    }
   ],
   "source": [
    "from nltk.corpus import stopwords\n",
    "stopwords.words('english')[0:10] # Show some stop words"
   ]
  },
  {
   "cell_type": "code",
   "execution_count": 36,
   "metadata": {
    "ExecuteTime": {
     "end_time": "2019-11-04T03:13:58.359663Z",
     "start_time": "2019-11-04T03:13:58.353679Z"
    }
   },
   "outputs": [
    {
     "data": {
      "text/plain": [
       "['Sample', 'message', 'Notice', 'it', 'has', 'punctuation']"
      ]
     },
     "execution_count": 36,
     "metadata": {},
     "output_type": "execute_result"
    }
   ],
   "source": [
    "nopunc.split()"
   ]
  },
  {
   "cell_type": "code",
   "execution_count": 37,
   "metadata": {
    "ExecuteTime": {
     "end_time": "2019-11-04T03:14:43.945775Z",
     "start_time": "2019-11-04T03:14:43.940819Z"
    }
   },
   "outputs": [],
   "source": [
    "# Now just remove any stopwords\n",
    "clean_mess = [word for word in nopunc.split() if word.lower() not in stopwords.words('english')]"
   ]
  },
  {
   "cell_type": "code",
   "execution_count": 38,
   "metadata": {
    "ExecuteTime": {
     "end_time": "2019-11-04T03:14:44.507273Z",
     "start_time": "2019-11-04T03:14:44.502286Z"
    }
   },
   "outputs": [
    {
     "data": {
      "text/plain": [
       "['Sample', 'message', 'Notice', 'punctuation']"
      ]
     },
     "execution_count": 38,
     "metadata": {},
     "output_type": "execute_result"
    }
   ],
   "source": [
    "clean_mess"
   ]
  },
  {
   "cell_type": "code",
   "execution_count": 40,
   "metadata": {
    "ExecuteTime": {
     "end_time": "2019-11-04T03:17:55.950393Z",
     "start_time": "2019-11-04T03:17:55.944443Z"
    }
   },
   "outputs": [
    {
     "name": "stdout",
     "output_type": "stream",
     "text": [
      "['werent', 'won', 'wont', 'wouldn', 'wouldnt', 'dun', 'u', 'n', 'oni', 'wif']\n"
     ]
    }
   ],
   "source": [
    "stop = []\n",
    "for word in stopwords.words('english'):\n",
    "    s = [char for char in word if char not in string.punctuation]\n",
    "    stop.append(''.join(s))\n",
    "stop.extend(['dun', 'u', 'n', 'oni', 'wif'])\n",
    "print(stop[-10:])"
   ]
  },
  {
   "cell_type": "markdown",
   "metadata": {},
   "source": [
    "Now let's put both of these together in a function to apply it to our DataFrame later on:"
   ]
  },
  {
   "cell_type": "code",
   "execution_count": 41,
   "metadata": {
    "ExecuteTime": {
     "end_time": "2019-11-04T03:20:35.858266Z",
     "start_time": "2019-11-04T03:20:35.853280Z"
    }
   },
   "outputs": [],
   "source": [
    "def text_process(mess):\n",
    "    \"\"\"\n",
    "    Takes in a string of text, then performs the following:\n",
    "    1. Remove all punctuation\n",
    "    2. Remove all stopwords\n",
    "    3. Returns a list of the cleaned text\n",
    "    \"\"\"\n",
    "    # Check characters to see if they are in punctuation\n",
    "    nopunc = [char for char in mess if char not in string.punctuation]\n",
    "\n",
    "    # Join the characters again to form the string.\n",
    "    nopunc = ''.join(nopunc)\n",
    "    \n",
    "    # Now just remove any stopwords\n",
    "    return [word for word in nopunc.split() if word.lower() not in stop]"
   ]
  },
  {
   "cell_type": "markdown",
   "metadata": {},
   "source": [
    "Here is the original DataFrame again:"
   ]
  },
  {
   "cell_type": "code",
   "execution_count": 42,
   "metadata": {
    "ExecuteTime": {
     "end_time": "2019-11-04T03:21:31.673922Z",
     "start_time": "2019-11-04T03:21:31.665967Z"
    }
   },
   "outputs": [
    {
     "data": {
      "text/html": [
       "<div>\n",
       "<style scoped>\n",
       "    .dataframe tbody tr th:only-of-type {\n",
       "        vertical-align: middle;\n",
       "    }\n",
       "\n",
       "    .dataframe tbody tr th {\n",
       "        vertical-align: top;\n",
       "    }\n",
       "\n",
       "    .dataframe thead th {\n",
       "        text-align: right;\n",
       "    }\n",
       "</style>\n",
       "<table border=\"1\" class=\"dataframe\">\n",
       "  <thead>\n",
       "    <tr style=\"text-align: right;\">\n",
       "      <th></th>\n",
       "      <th>label</th>\n",
       "      <th>message</th>\n",
       "      <th>length</th>\n",
       "      <th>words</th>\n",
       "    </tr>\n",
       "  </thead>\n",
       "  <tbody>\n",
       "    <tr>\n",
       "      <th>0</th>\n",
       "      <td>ham</td>\n",
       "      <td>Go until jurong point, crazy.. Available only ...</td>\n",
       "      <td>111</td>\n",
       "      <td>20</td>\n",
       "    </tr>\n",
       "    <tr>\n",
       "      <th>1</th>\n",
       "      <td>ham</td>\n",
       "      <td>Ok lar... Joking wif u oni...</td>\n",
       "      <td>29</td>\n",
       "      <td>6</td>\n",
       "    </tr>\n",
       "    <tr>\n",
       "      <th>2</th>\n",
       "      <td>spam</td>\n",
       "      <td>Free entry in 2 a wkly comp to win FA Cup fina...</td>\n",
       "      <td>155</td>\n",
       "      <td>28</td>\n",
       "    </tr>\n",
       "    <tr>\n",
       "      <th>3</th>\n",
       "      <td>ham</td>\n",
       "      <td>U dun say so early hor... U c already then say...</td>\n",
       "      <td>49</td>\n",
       "      <td>11</td>\n",
       "    </tr>\n",
       "    <tr>\n",
       "      <th>4</th>\n",
       "      <td>ham</td>\n",
       "      <td>Nah I don't think he goes to usf, he lives aro...</td>\n",
       "      <td>61</td>\n",
       "      <td>13</td>\n",
       "    </tr>\n",
       "  </tbody>\n",
       "</table>\n",
       "</div>"
      ],
      "text/plain": [
       "  label                                            message  length  words\n",
       "0   ham  Go until jurong point, crazy.. Available only ...     111     20\n",
       "1   ham                      Ok lar... Joking wif u oni...      29      6\n",
       "2  spam  Free entry in 2 a wkly comp to win FA Cup fina...     155     28\n",
       "3   ham  U dun say so early hor... U c already then say...      49     11\n",
       "4   ham  Nah I don't think he goes to usf, he lives aro...      61     13"
      ]
     },
     "execution_count": 42,
     "metadata": {},
     "output_type": "execute_result"
    }
   ],
   "source": [
    "messages.head()"
   ]
  },
  {
   "cell_type": "markdown",
   "metadata": {},
   "source": [
    "Now let's \"tokenize\" these messages. Tokenization is just the term used to describe the process of converting the normal text strings in to a list of tokens (words that we actually want).\n",
    "\n",
    "Let's see an example output on on column:\n",
    "\n",
    "**Note:**\n",
    "We may get some warnings or errors for symbols we didn't account for or that weren't in Unicode (like a British pound symbol)"
   ]
  },
  {
   "cell_type": "code",
   "execution_count": 43,
   "metadata": {
    "ExecuteTime": {
     "end_time": "2019-11-04T03:22:42.332522Z",
     "start_time": "2019-11-04T03:22:42.157956Z"
    }
   },
   "outputs": [
    {
     "data": {
      "text/plain": [
       "0       [Go, jurong, point, crazy, Available, bugis, g...\n",
       "1                                       [Ok, lar, Joking]\n",
       "2       [Free, entry, 2, wkly, comp, win, FA, Cup, fin...\n",
       "3                      [say, early, hor, c, already, say]\n",
       "4          [Nah, think, goes, usf, lives, around, though]\n",
       "5       [FreeMsg, Hey, darling, 3, weeks, word, back, ...\n",
       "6       [Even, brother, like, speak, treat, like, aids...\n",
       "7       [per, request, Melle, Melle, Oru, Minnaminungi...\n",
       "8       [WINNER, valued, network, customer, selected, ...\n",
       "9       [mobile, 11, months, R, entitled, Update, late...\n",
       "10      [Im, gonna, home, soon, want, talk, stuff, any...\n",
       "11      [SIX, chances, win, CASH, 100, 20000, pounds, ...\n",
       "12      [URGENT, 1, week, FREE, membership, £100000, P...\n",
       "13      [Ive, searching, right, words, thank, breather...\n",
       "14                                         [DATE, SUNDAY]\n",
       "15      [XXXMobileMovieClub, use, credit, click, WAP, ...\n",
       "16                                    [Oh, kim, watching]\n",
       "17      [Eh, remember, 2, spell, name, Yes, v, naughty...\n",
       "18        [Fine, thats, way, feel, Thats, way, gota, b]\n",
       "19      [England, v, Macedonia, miss, goalsteam, news,...\n",
       "20                               [seriously, spell, name]\n",
       "21           [I‘m, going, try, 2, months, ha, ha, joking]\n",
       "22                 [ü, pay, first, lar, da, stock, comin]\n",
       "23      [Aft, finish, lunch, go, str, lor, Ard, 3, smt...\n",
       "24               [Ffffffffff, Alright, way, meet, sooner]\n",
       "25      [forced, eat, slice, Im, really, hungry, tho, ...\n",
       "26                              [Lol, always, convincing]\n",
       "27      [catch, bus, frying, egg, make, tea, eating, m...\n",
       "28      [Im, back, amp, packing, car, Ill, let, know, ...\n",
       "29       [Ahhh, Work, vaguely, remember, feel, like, Lol]\n",
       "                              ...                        \n",
       "5542                    [Armand, says, get, ass, epsilon]\n",
       "5543                     [still, got, urself, jacket, ah]\n",
       "5544    [Im, taking, derek, amp, taylor, walmart, Im, ...\n",
       "5545                          [Hi, durban, still, number]\n",
       "5546                         [Ic, lotta, childporn, cars]\n",
       "5547    [contract, mobile, 11, Mnths, Latest, Motorola...\n",
       "5548                                 [trying, weekend, V]\n",
       "5549    [know, wot, people, wear, shirts, jumpers, hat...\n",
       "5550                             [Cool, time, think, get]\n",
       "5551            [Wen, get, spiritual, deep, Thats, great]\n",
       "5552    [safe, trip, Nigeria, Wish, happiness, soon, c...\n",
       "5553                             [Hahahause, brain, dear]\n",
       "5554    [Well, keep, mind, Ive, got, enough, gas, one,...\n",
       "5555    [Yeh, Indians, nice, Tho, kane, bit, shud, go,...\n",
       "5556             [Yes, thats, texted, Pshewmissing, much]\n",
       "5557    [meant, calculation, ltgt, units, ltgt, school...\n",
       "5558                            [Sorry, Ill, call, later]\n",
       "5559                [next, ltgt, hours, imma, flip, shit]\n",
       "5560                        [Anything, lor, Juz, us, lor]\n",
       "5561    [Get, dump, heap, mom, decided, come, lowes, B...\n",
       "5562    [Ok, lor, Sony, ericsson, salesman, ask, shuhu...\n",
       "5563                             [Ard, 6, like, dat, lor]\n",
       "5564              [wait, til, least, wednesday, see, get]\n",
       "5565                                           [Huh, lei]\n",
       "5566    [REMINDER, O2, get, 250, pounds, free, call, c...\n",
       "5567    [2nd, time, tried, 2, contact, £750, Pound, pr...\n",
       "5568                   [ü, b, going, esplanade, fr, home]\n",
       "5569                     [Pity, mood, Soany, suggestions]\n",
       "5570    [guy, bitching, acted, like, id, interested, b...\n",
       "5571                                   [Rofl, true, name]\n",
       "Name: message, Length: 5572, dtype: object"
      ]
     },
     "execution_count": 43,
     "metadata": {},
     "output_type": "execute_result"
    }
   ],
   "source": [
    "# Check to make sure its working\n",
    "messages['message'].apply(text_process)"
   ]
  },
  {
   "cell_type": "code",
   "execution_count": 44,
   "metadata": {
    "ExecuteTime": {
     "end_time": "2019-11-04T03:24:58.137392Z",
     "start_time": "2019-11-04T03:24:58.130444Z"
    }
   },
   "outputs": [
    {
     "data": {
      "text/html": [
       "<div>\n",
       "<style scoped>\n",
       "    .dataframe tbody tr th:only-of-type {\n",
       "        vertical-align: middle;\n",
       "    }\n",
       "\n",
       "    .dataframe tbody tr th {\n",
       "        vertical-align: top;\n",
       "    }\n",
       "\n",
       "    .dataframe thead th {\n",
       "        text-align: right;\n",
       "    }\n",
       "</style>\n",
       "<table border=\"1\" class=\"dataframe\">\n",
       "  <thead>\n",
       "    <tr style=\"text-align: right;\">\n",
       "      <th></th>\n",
       "      <th>label</th>\n",
       "      <th>message</th>\n",
       "      <th>length</th>\n",
       "      <th>words</th>\n",
       "    </tr>\n",
       "  </thead>\n",
       "  <tbody>\n",
       "    <tr>\n",
       "      <th>0</th>\n",
       "      <td>ham</td>\n",
       "      <td>Go until jurong point, crazy.. Available only ...</td>\n",
       "      <td>111</td>\n",
       "      <td>20</td>\n",
       "    </tr>\n",
       "    <tr>\n",
       "      <th>1</th>\n",
       "      <td>ham</td>\n",
       "      <td>Ok lar... Joking wif u oni...</td>\n",
       "      <td>29</td>\n",
       "      <td>6</td>\n",
       "    </tr>\n",
       "    <tr>\n",
       "      <th>2</th>\n",
       "      <td>spam</td>\n",
       "      <td>Free entry in 2 a wkly comp to win FA Cup fina...</td>\n",
       "      <td>155</td>\n",
       "      <td>28</td>\n",
       "    </tr>\n",
       "    <tr>\n",
       "      <th>3</th>\n",
       "      <td>ham</td>\n",
       "      <td>U dun say so early hor... U c already then say...</td>\n",
       "      <td>49</td>\n",
       "      <td>11</td>\n",
       "    </tr>\n",
       "    <tr>\n",
       "      <th>4</th>\n",
       "      <td>ham</td>\n",
       "      <td>Nah I don't think he goes to usf, he lives aro...</td>\n",
       "      <td>61</td>\n",
       "      <td>13</td>\n",
       "    </tr>\n",
       "  </tbody>\n",
       "</table>\n",
       "</div>"
      ],
      "text/plain": [
       "  label                                            message  length  words\n",
       "0   ham  Go until jurong point, crazy.. Available only ...     111     20\n",
       "1   ham                      Ok lar... Joking wif u oni...      29      6\n",
       "2  spam  Free entry in 2 a wkly comp to win FA Cup fina...     155     28\n",
       "3   ham  U dun say so early hor... U c already then say...      49     11\n",
       "4   ham  Nah I don't think he goes to usf, he lives aro...      61     13"
      ]
     },
     "execution_count": 44,
     "metadata": {},
     "output_type": "execute_result"
    }
   ],
   "source": [
    "# Show original dataframe\n",
    "messages.head()"
   ]
  },
  {
   "cell_type": "markdown",
   "metadata": {},
   "source": [
    "### Continuing Normalization\n",
    "\n",
    "There are a lot of ways to continue normalizing this text. Such as [Stemming](https://en.wikipedia.org/wiki/Stemming) or distinguishing by [part of speech](http://www.nltk.org/book/ch05.html).\n",
    "\n",
    "NLTK has lots of built-in tools and great documentation on a lot of these methods. Sometimes they don't work well for text-messages due to the way a lot of people tend to use abbreviations or shorthand, For example:\n",
    "    \n",
    "    'Nah dawg, IDK! Wut time u headin to da club?'\n",
    "    \n",
    "versus\n",
    "\n",
    "    'No dog, I don't know! What time are you heading to the club?'\n",
    "    \n",
    "Some text normalization methods will have trouble with this type of shorthand and so I'll leave you to explore those more advanced methods through the [NLTK book online](http://www.nltk.org/book/).\n",
    "\n",
    "For now we will just focus on using what we have to convert our list of words to an actual vector that SciKit-Learn can use."
   ]
  },
  {
   "cell_type": "markdown",
   "metadata": {},
   "source": [
    "## Vectorization"
   ]
  },
  {
   "cell_type": "markdown",
   "metadata": {},
   "source": [
    "Currently, we have the messages as lists of tokens (also known as [lemmas](http://nlp.stanford.edu/IR-book/html/htmledition/stemming-and-lemmatization-1.html)) and now we need to convert each of those messages into a vector the SciKit Learn's algorithm models can work with.\n",
    "\n",
    "Now we'll convert each message, represented as a list of tokens (lemmas) above, into a vector that machine learning models can understand.\n",
    "\n",
    "We'll do that in three steps using the bag-of-words model:\n",
    "\n",
    "1. Count how many times does a word occur in each message (Known as term frequency)\n",
    "\n",
    "2. Weigh the counts, so that frequent tokens get lower weight (inverse document frequency)\n",
    "\n",
    "3. Normalize the vectors to unit length, to abstract from the original text length (L2 norm)\n",
    "\n",
    "Let's begin the first step:"
   ]
  },
  {
   "cell_type": "markdown",
   "metadata": {},
   "source": [
    "Each vector will have as many dimensions as there are unique words in the SMS corpus.  We will first use SciKit Learn's **CountVectorizer**. This model will convert a collection of text documents to a matrix of token counts.\n",
    "\n",
    "We can imagine this as a 2-Dimensional matrix. Where the 1-dimension is the entire vocabulary (1 row per word) and the other dimension are the actual documents, in this case a column per text message. \n",
    "\n",
    "For example:\n",
    "\n",
    "<table border = “1“>\n",
    "<tr>\n",
    "<th></th> <th>Message 1</th> <th>Message 2</th> <th>...</th> <th>Message N</th> \n",
    "</tr>\n",
    "<tr>\n",
    "<td><b>Word 1 Count</b></td><td>0</td><td>1</td><td>...</td><td>0</td>\n",
    "</tr>\n",
    "<tr>\n",
    "<td><b>Word 2 Count</b></td><td>0</td><td>0</td><td>...</td><td>0</td>\n",
    "</tr>\n",
    "<tr>\n",
    "<td><b>...</b></td> <td>1</td><td>2</td><td>...</td><td>0</td>\n",
    "</tr>\n",
    "<tr>\n",
    "<td><b>Word N Count</b></td> <td>0</td><td>1</td><td>...</td><td>1</td>\n",
    "</tr>\n",
    "</table>\n",
    "\n",
    "\n",
    "Since there are so many messages, we can expect a lot of zero counts for the presence of that word in that document. Because of this, SciKit Learn will output a [Sparse Matrix](https://en.wikipedia.org/wiki/Sparse_matrix)."
   ]
  },
  {
   "cell_type": "code",
   "execution_count": 45,
   "metadata": {
    "ExecuteTime": {
     "end_time": "2019-11-04T03:31:31.830466Z",
     "start_time": "2019-11-04T03:31:31.826476Z"
    }
   },
   "outputs": [],
   "source": [
    "from sklearn.feature_extraction.text import CountVectorizer"
   ]
  },
  {
   "cell_type": "markdown",
   "metadata": {},
   "source": [
    "There are a lot of arguments and parameters that can be passed to the CountVectorizer. In this case we will just specify the **analyzer** to be our own previously defined function:"
   ]
  },
  {
   "cell_type": "code",
   "execution_count": 46,
   "metadata": {
    "ExecuteTime": {
     "end_time": "2019-11-04T03:35:34.836490Z",
     "start_time": "2019-11-04T03:35:34.586195Z"
    }
   },
   "outputs": [
    {
     "name": "stdout",
     "output_type": "stream",
     "text": [
      "11372\n"
     ]
    }
   ],
   "source": [
    "# Might take awhile...\n",
    "bow_transformer = CountVectorizer(analyzer=text_process).fit(messages['message'])\n",
    "\n",
    "# Print total number of vocab words\n",
    "print(len(bow_transformer.vocabulary_))"
   ]
  },
  {
   "cell_type": "code",
   "execution_count": 47,
   "metadata": {
    "ExecuteTime": {
     "end_time": "2019-11-04T03:35:36.216546Z",
     "start_time": "2019-11-04T03:35:36.211587Z"
    }
   },
   "outputs": [
    {
     "data": {
      "text/plain": [
       "CountVectorizer(analyzer=<function text_process at 0x000001FB997408C8>,\n",
       "                binary=False, decode_error='strict',\n",
       "                dtype=<class 'numpy.int64'>, encoding='utf-8', input='content',\n",
       "                lowercase=True, max_df=1.0, max_features=None, min_df=1,\n",
       "                ngram_range=(1, 1), preprocessor=None, stop_words=None,\n",
       "                strip_accents=None, token_pattern='(?u)\\\\b\\\\w\\\\w+\\\\b',\n",
       "                tokenizer=None, vocabulary=None)"
      ]
     },
     "execution_count": 47,
     "metadata": {},
     "output_type": "execute_result"
    }
   ],
   "source": [
    "bow_transformer"
   ]
  },
  {
   "cell_type": "code",
   "execution_count": 49,
   "metadata": {
    "ExecuteTime": {
     "end_time": "2019-11-04T03:36:15.803545Z",
     "start_time": "2019-11-04T03:36:15.782570Z"
    }
   },
   "outputs": [
    {
     "data": {
      "text/plain": [
       "{'Go': 2053,\n",
       " 'jurong': 7517,\n",
       " 'point': 8877,\n",
       " 'crazy': 5739,\n",
       " 'Available': 1110,\n",
       " 'bugis': 5189,\n",
       " 'great': 6903,\n",
       " 'world': 11115,\n",
       " 'la': 7630,\n",
       " 'e': 6183,\n",
       " 'buffet': 5188,\n",
       " 'Cine': 1483,\n",
       " 'got': 6872,\n",
       " 'amore': 4625,\n",
       " 'wat': 10920,\n",
       " 'Ok': 3051,\n",
       " 'lar': 7663,\n",
       " 'Joking': 2439,\n",
       " 'Free': 1934,\n",
       " 'entry': 6297,\n",
       " '2': 423,\n",
       " 'wkly': 11076,\n",
       " 'comp': 5590,\n",
       " 'win': 11037,\n",
       " 'FA': 1826,\n",
       " 'Cup': 1551,\n",
       " 'final': 6523,\n",
       " 'tkts': 10469,\n",
       " '21st': 443,\n",
       " 'May': 2792,\n",
       " '2005': 430,\n",
       " 'Text': 3938,\n",
       " '87121': 871,\n",
       " 'receive': 9212,\n",
       " 'questionstd': 9119,\n",
       " 'txt': 10643,\n",
       " 'rateTCs': 9160,\n",
       " 'apply': 4703,\n",
       " '08452810075over18s': 73,\n",
       " 'say': 9514,\n",
       " 'early': 6188,\n",
       " 'hor': 7149,\n",
       " 'c': 5232,\n",
       " 'already': 4601,\n",
       " 'Nah': 2935,\n",
       " 'think': 10390,\n",
       " 'goes': 6843,\n",
       " 'usf': 10755,\n",
       " 'lives': 7804,\n",
       " 'around': 4748,\n",
       " 'though': 10407,\n",
       " 'FreeMsg': 1936,\n",
       " 'Hey': 2212,\n",
       " 'darling': 5834,\n",
       " '3': 543,\n",
       " 'weeks': 10966,\n",
       " 'word': 11102,\n",
       " 'back': 4864,\n",
       " 'Id': 2335,\n",
       " 'like': 7762,\n",
       " 'fun': 6721,\n",
       " 'still': 10051,\n",
       " 'Tb': 3915,\n",
       " 'ok': 8528,\n",
       " 'XxX': 4357,\n",
       " 'std': 10031,\n",
       " 'chgs': 5438,\n",
       " 'send': 9601,\n",
       " '£150': 11318,\n",
       " 'rcv': 9169,\n",
       " 'Even': 1795,\n",
       " 'brother': 5164,\n",
       " 'speak': 9929,\n",
       " 'treat': 10586,\n",
       " 'aids': 4562,\n",
       " 'patent': 8721,\n",
       " 'per': 8756,\n",
       " 'request': 9316,\n",
       " 'Melle': 2802,\n",
       " 'Oru': 3085,\n",
       " 'Minnaminunginte': 2821,\n",
       " 'Nurungu': 3010,\n",
       " 'Vettam': 4153,\n",
       " 'set': 9624,\n",
       " 'callertune': 5263,\n",
       " 'Callers': 1421,\n",
       " 'Press': 3265,\n",
       " '9': 909,\n",
       " 'copy': 5687,\n",
       " 'friends': 6685,\n",
       " 'Callertune': 1422,\n",
       " 'WINNER': 4204,\n",
       " 'valued': 10784,\n",
       " 'network': 8367,\n",
       " 'customer': 5790,\n",
       " 'selected': 9588,\n",
       " 'receivea': 9213,\n",
       " '£900': 11359,\n",
       " 'prize': 9018,\n",
       " 'reward': 9373,\n",
       " 'claim': 5490,\n",
       " 'call': 5246,\n",
       " '09061701461': 219,\n",
       " 'Claim': 1485,\n",
       " 'code': 5545,\n",
       " 'KL341': 2465,\n",
       " 'Valid': 4144,\n",
       " '12': 326,\n",
       " 'hours': 7164,\n",
       " 'mobile': 8178,\n",
       " '11': 315,\n",
       " 'months': 8213,\n",
       " 'R': 3308,\n",
       " 'entitled': 6294,\n",
       " 'Update': 4111,\n",
       " 'latest': 7678,\n",
       " 'colour': 5565,\n",
       " 'mobiles': 8179,\n",
       " 'camera': 5275,\n",
       " 'Call': 1417,\n",
       " 'Mobile': 2840,\n",
       " 'Co': 1492,\n",
       " 'FREE': 1858,\n",
       " '08002986030': 58,\n",
       " 'Im': 2341,\n",
       " 'gonna': 6856,\n",
       " 'home': 7122,\n",
       " 'soon': 9889,\n",
       " 'want': 10901,\n",
       " 'talk': 10261,\n",
       " 'stuff': 10111,\n",
       " 'anymore': 4673,\n",
       " 'tonight': 10514,\n",
       " 'k': 7523,\n",
       " 'Ive': 2382,\n",
       " 'cried': 5753,\n",
       " 'enough': 6285,\n",
       " 'today': 10481,\n",
       " 'SIX': 3482,\n",
       " 'chances': 5382,\n",
       " 'CASH': 1353,\n",
       " '100': 294,\n",
       " '20000': 427,\n",
       " 'pounds': 8935,\n",
       " 'CSH11': 1405,\n",
       " '87575': 875,\n",
       " 'Cost': 1524,\n",
       " '150pday': 364,\n",
       " '6days': 763,\n",
       " '16': 382,\n",
       " 'TsandCs': 4032,\n",
       " 'Reply': 3401,\n",
       " 'HL': 2131,\n",
       " '4': 605,\n",
       " 'info': 7317,\n",
       " 'URGENT': 4073,\n",
       " '1': 292,\n",
       " 'week': 10961,\n",
       " 'membership': 8072,\n",
       " '£100000': 11312,\n",
       " 'Prize': 3270,\n",
       " 'Jackpot': 2409,\n",
       " 'Txt': 4046,\n",
       " 'CLAIM': 1378,\n",
       " '81010': 821,\n",
       " 'TC': 3832,\n",
       " 'wwwdbuknet': 11182,\n",
       " 'LCCLTD': 2539,\n",
       " 'POBOX': 3125,\n",
       " '4403LDNW1A7RW18': 626,\n",
       " 'searching': 9557,\n",
       " 'right': 9382,\n",
       " 'words': 11106,\n",
       " 'thank': 10350,\n",
       " 'breather': 5137,\n",
       " 'promise': 9052,\n",
       " 'take': 10253,\n",
       " 'help': 7052,\n",
       " 'granted': 6895,\n",
       " 'fulfil': 6717,\n",
       " 'wonderful': 11095,\n",
       " 'blessing': 5046,\n",
       " 'times': 10448,\n",
       " 'DATE': 1568,\n",
       " 'SUNDAY': 3554,\n",
       " 'XXXMobileMovieClub': 4348,\n",
       " 'use': 10749,\n",
       " 'credit': 5744,\n",
       " 'click': 5511,\n",
       " 'WAP': 4183,\n",
       " 'link': 7780,\n",
       " 'next': 8381,\n",
       " 'message': 8095,\n",
       " 'httpwap': 7187,\n",
       " 'xxxmobilemovieclubcomnQJKGIGHJJGCBL': 11224,\n",
       " 'Oh': 3046,\n",
       " 'kim': 7580,\n",
       " 'watching': 10925,\n",
       " 'Eh': 1762,\n",
       " 'remember': 9279,\n",
       " 'spell': 9943,\n",
       " 'name': 8309,\n",
       " 'Yes': 4401,\n",
       " 'v': 10772,\n",
       " 'naughty': 8329,\n",
       " 'make': 7962,\n",
       " 'wet': 10994,\n",
       " 'Fine': 1907,\n",
       " 'that\\x92s': 10362,\n",
       " 'way': 10934,\n",
       " 'feel': 6483,\n",
       " 'That\\x92s': 3948,\n",
       " 'gota': 6873,\n",
       " 'b': 4851,\n",
       " 'England': 1777,\n",
       " 'Macedonia': 2760,\n",
       " 'miss': 8153,\n",
       " 'goalsteam': 6836,\n",
       " 'news': 8376,\n",
       " 'ur': 10733,\n",
       " 'national': 8323,\n",
       " 'team': 10296,\n",
       " '87077': 870,\n",
       " 'eg': 6224,\n",
       " 'ENGLAND': 1721,\n",
       " 'TryWALES': 4026,\n",
       " 'SCOTLAND': 3447,\n",
       " '4txtú120': 677,\n",
       " 'POBOXox36504W45WQ': 3128,\n",
       " 'seriously': 9618,\n",
       " 'I‘m': 2389,\n",
       " 'going': 6848,\n",
       " 'try': 10612,\n",
       " 'ha': 6958,\n",
       " 'joking': 7496,\n",
       " 'ü': 11365,\n",
       " 'pay': 8729,\n",
       " 'first': 6550,\n",
       " 'da': 5802,\n",
       " 'stock': 10055,\n",
       " 'comin': 5580,\n",
       " 'Aft': 1019,\n",
       " 'finish': 6536,\n",
       " 'lunch': 7909,\n",
       " 'go': 6830,\n",
       " 'str': 10075,\n",
       " 'lor': 7850,\n",
       " 'Ard': 1084,\n",
       " 'smth': 9839,\n",
       " 'Ffffffffff': 1898,\n",
       " 'Alright': 1053,\n",
       " 'meet': 8054,\n",
       " 'sooner': 9890,\n",
       " 'forced': 6621,\n",
       " 'eat': 6200,\n",
       " 'slice': 9794,\n",
       " 'really': 9194,\n",
       " 'hungry': 7212,\n",
       " 'tho': 10403,\n",
       " 'sucks': 10144,\n",
       " 'Mark': 2782,\n",
       " 'getting': 6798,\n",
       " 'worried': 11121,\n",
       " 'knows': 7605,\n",
       " 'sick': 9722,\n",
       " 'turn': 10629,\n",
       " 'pizza': 8829,\n",
       " 'Lol': 2636,\n",
       " 'always': 4613,\n",
       " 'convincing': 5674,\n",
       " 'catch': 5345,\n",
       " 'bus': 5208,\n",
       " 'frying': 6707,\n",
       " 'egg': 6226,\n",
       " 'tea': 10290,\n",
       " 'eating': 6203,\n",
       " 'moms': 8197,\n",
       " 'left': 7710,\n",
       " 'dinner': 6014,\n",
       " 'Love': 2649,\n",
       " 'amp': 4627,\n",
       " 'packing': 8653,\n",
       " 'car': 5302,\n",
       " 'Ill': 2339,\n",
       " 'let': 7731,\n",
       " 'know': 7601,\n",
       " 'theres': 10378,\n",
       " 'room': 9420,\n",
       " 'Ahhh': 1028,\n",
       " 'Work': 4323,\n",
       " 'vaguely': 10775,\n",
       " 'Wait': 4237,\n",
       " 'thats': 10361,\n",
       " 'clear': 5505,\n",
       " 'sure': 10195,\n",
       " 'sarcastic': 9496,\n",
       " 'x': 11211,\n",
       " 'live': 7801,\n",
       " 'us': 10743,\n",
       " 'Yeah': 4392,\n",
       " 'apologetic': 4691,\n",
       " 'fallen': 6434,\n",
       " 'actin': 4481,\n",
       " 'spoilt': 9963,\n",
       " 'child': 5454,\n",
       " 'caught': 5349,\n",
       " 'Till': 3981,\n",
       " 'badly': 4869,\n",
       " 'cheers': 5421,\n",
       " 'K': 2456,\n",
       " 'tell': 10312,\n",
       " 'anything': 4679,\n",
       " 'fear': 6475,\n",
       " 'fainting': 6425,\n",
       " 'housework': 7168,\n",
       " 'Quick': 3303,\n",
       " 'cuppa': 5780,\n",
       " 'Thanks': 3943,\n",
       " 'subscription': 10134,\n",
       " 'Ringtone': 3411,\n",
       " 'UK': 4057,\n",
       " 'charged': 5394,\n",
       " '£5month': 11351,\n",
       " 'Please': 3222,\n",
       " 'confirm': 5632,\n",
       " 'replying': 9311,\n",
       " 'YES': 4366,\n",
       " 'reply': 9309,\n",
       " 'Yup': 4422,\n",
       " 'look': 7842,\n",
       " 'timings': 10454,\n",
       " 'msg': 8245,\n",
       " 'Xuhui': 4355,\n",
       " 'learn': 7699,\n",
       " '2nd': 526,\n",
       " 'may': 8027,\n",
       " 'lesson': 7729,\n",
       " '8am': 903,\n",
       " 'Oops': 3072,\n",
       " 'roommates': 9423,\n",
       " 'done': 6088,\n",
       " 'see': 9573,\n",
       " 'letter': 7733,\n",
       " 'B': 1120,\n",
       " 'Anything': 1070,\n",
       " 'decide': 5885,\n",
       " 'Hello': 2199,\n",
       " 'Hows': 2269,\n",
       " 'saturday': 9506,\n",
       " 'texting': 10341,\n",
       " 'decided': 5886,\n",
       " 'tomo': 10503,\n",
       " 'im': 7270,\n",
       " 'trying': 10614,\n",
       " 'invite': 7373,\n",
       " 'Pls': 3224,\n",
       " 'ahead': 4554,\n",
       " 'watts': 10932,\n",
       " 'wanted': 10903,\n",
       " 'weekend': 10963,\n",
       " 'Abiola': 999,\n",
       " 'forget': 6627,\n",
       " 'need': 8347,\n",
       " 'crave': 5736,\n",
       " 'love': 7875,\n",
       " 'sweet': 10219,\n",
       " 'Arabian': 1082,\n",
       " 'steed': 10037,\n",
       " 'Mmmmmm': 2834,\n",
       " 'Yummy': 4419,\n",
       " '07732584351': 29,\n",
       " 'Rodger': 3417,\n",
       " 'Burns': 1329,\n",
       " 'MSG': 2745,\n",
       " 'tried': 10595,\n",
       " 'sms': 9834,\n",
       " 'free': 6665,\n",
       " 'nokia': 8416,\n",
       " 'camcorder': 5273,\n",
       " '08000930705': 54,\n",
       " 'delivery': 5920,\n",
       " 'tomorrow': 10506,\n",
       " 'SEEING': 3451,\n",
       " 'Great': 2081,\n",
       " 'hope': 7140,\n",
       " 'man': 7971,\n",
       " 'well': 10978,\n",
       " 'endowed': 6269,\n",
       " 'ltgt': 7901,\n",
       " 'inches': 7296,\n",
       " 'callsmessagesmissed': 5269,\n",
       " 'calls': 5268,\n",
       " 'get': 6790,\n",
       " 'hep': 7061,\n",
       " 'immunisation': 7278,\n",
       " 'nigeria': 8388,\n",
       " 'Fair': 1886,\n",
       " 'hopefully': 7145,\n",
       " 'tyler': 10649,\n",
       " 'cant': 5291,\n",
       " 'could': 5709,\n",
       " 'maybe': 8029,\n",
       " 'ask': 4770,\n",
       " 'bit': 5024,\n",
       " 'stubborn': 10101,\n",
       " 'even': 6335,\n",
       " 'hospital': 7155,\n",
       " 'kept': 7556,\n",
       " 'telling': 10313,\n",
       " 'weak': 10938,\n",
       " 'sucker': 10142,\n",
       " 'Hospitals': 2261,\n",
       " 'suckers': 10143,\n",
       " 'thinked': 10392,\n",
       " 'First': 1911,\n",
       " 'time': 10444,\n",
       " 'saw': 9513,\n",
       " 'class': 5498,\n",
       " 'gram': 6889,\n",
       " 'usually': 10761,\n",
       " 'runs': 9455,\n",
       " 'half': 6969,\n",
       " 'eighth': 6233,\n",
       " 'smarter': 9816,\n",
       " 'gets': 6794,\n",
       " 'almost': 4597,\n",
       " 'whole': 11017,\n",
       " 'second': 9561,\n",
       " 'fyi': 6734,\n",
       " 'ride': 9381,\n",
       " 'morning': 8218,\n",
       " 'hes': 7072,\n",
       " 'crashing': 5735,\n",
       " 'place': 8830,\n",
       " 'Wow': 4330,\n",
       " 'never': 8371,\n",
       " 'realized': 9192,\n",
       " 'embarassed': 6253,\n",
       " 'accomodations': 4464,\n",
       " 'thought': 10408,\n",
       " 'liked': 7763,\n",
       " 'since': 9746,\n",
       " 'best': 4985,\n",
       " 'seemed': 9579,\n",
       " 'happy': 7000,\n",
       " 'cave': 5353,\n",
       " 'sorry': 9899,\n",
       " 'give': 6816,\n",
       " 'offered': 8508,\n",
       " 'embarassing': 6254,\n",
       " 'SMS': 3493,\n",
       " 'ac': 4450,\n",
       " 'Sptv': 3747,\n",
       " 'New': 2955,\n",
       " 'Jersey': 2429,\n",
       " 'Devils': 1654,\n",
       " 'Detroit': 1653,\n",
       " 'Red': 3381,\n",
       " 'Wings': 4301,\n",
       " 'play': 8844,\n",
       " 'Ice': 2333,\n",
       " 'Hockey': 2239,\n",
       " 'Correct': 1522,\n",
       " 'Incorrect': 2349,\n",
       " 'End': 1775,\n",
       " 'END': 1719,\n",
       " 'SPTV': 3525,\n",
       " 'Mallika': 2772,\n",
       " 'Sherawat': 3639,\n",
       " 'yesterday': 11250,\n",
       " 'Find': 1906,\n",
       " 'ltURLgt': 7900,\n",
       " 'Congrats': 1513,\n",
       " 'year': 11241,\n",
       " 'special': 9931,\n",
       " 'cinema': 5486,\n",
       " 'pass': 8710,\n",
       " '09061209465': 214,\n",
       " 'C': 1337,\n",
       " 'Suprman': 3806,\n",
       " 'V': 4128,\n",
       " 'Matrix3': 2789,\n",
       " 'StarWars3': 3756,\n",
       " 'etc': 6325,\n",
       " 'bx420ip45we': 5227,\n",
       " '150pm': 365,\n",
       " 'Sorry': 3720,\n",
       " 'later': 7676,\n",
       " 'meeting': 8056,\n",
       " 'Tell': 3927,\n",
       " 'reached': 9176,\n",
       " 'Yesgauti': 4404,\n",
       " 'sehwag': 9585,\n",
       " 'odi': 8502,\n",
       " 'series': 9616,\n",
       " 'pick': 8804,\n",
       " 'burger': 5200,\n",
       " 'move': 8232,\n",
       " 'Pain': 3167,\n",
       " 'killing': 7577,\n",
       " 'Ha': 2160,\n",
       " 'good': 6858,\n",
       " 'joke': 7491,\n",
       " 'Girls': 2048,\n",
       " 'situation': 9766,\n",
       " 'seekers': 9576,\n",
       " 'part': 8699,\n",
       " 'checking': 5418,\n",
       " 'IQ': 2319,\n",
       " 'took': 10523,\n",
       " 'forever': 6624,\n",
       " 'come': 5572,\n",
       " 'double': 6101,\n",
       " 'check': 5415,\n",
       " 'hair': 6966,\n",
       " 'dresser': 6129,\n",
       " 'said': 9472,\n",
       " 'wun': 11159,\n",
       " 'cut': 5793,\n",
       " 'short': 9689,\n",
       " 'nice': 8384,\n",
       " 'pleased': 8855,\n",
       " 'advise': 4519,\n",
       " 'following': 6605,\n",
       " 'recent': 9216,\n",
       " 'review': 9371,\n",
       " 'Mob': 2837,\n",
       " 'awarded': 4844,\n",
       " '£1500': 11319,\n",
       " 'Bonus': 1282,\n",
       " '09066364589': 263,\n",
       " 'Today': 3995,\n",
       " 'song': 9885,\n",
       " 'dedicated': 5895,\n",
       " 'day': 5851,\n",
       " 'dedicate': 5894,\n",
       " 'Send': 3610,\n",
       " 'valuable': 10781,\n",
       " 'frnds': 6694,\n",
       " 'rply': 9436,\n",
       " 'Urgent': 4118,\n",
       " 'UR': 4070,\n",
       " 'complimentary': 5607,\n",
       " 'trip': 10596,\n",
       " 'EuroDisinc': 1792,\n",
       " 'Trav': 4016,\n",
       " 'AcoEntry41': 1008,\n",
       " '£1000': 11310,\n",
       " 'DIS': 1586,\n",
       " '186£150moreFrmMob': 391,\n",
       " 'ShrAcomOrSglSuplt10': 3658,\n",
       " 'LS1': 2577,\n",
       " '3AJ': 576,\n",
       " 'hear': 7029,\n",
       " 'new': 8374,\n",
       " 'Divorce': 1675,\n",
       " 'Barbie': 1225,\n",
       " 'comes': 5576,\n",
       " 'Kens': 2485,\n",
       " 'plane': 8837,\n",
       " 'month': 8210,\n",
       " 'end': 6264,\n",
       " 'Wah': 4235,\n",
       " 'lucky': 7906,\n",
       " 'save': 9509,\n",
       " 'money': 8203,\n",
       " 'Hee': 2193,\n",
       " 'Finished': 1910,\n",
       " 'HI': 2127,\n",
       " 'BABE': 1124,\n",
       " 'IM': 2298,\n",
       " 'HOME': 2137,\n",
       " 'WANNA': 4180,\n",
       " 'SOMETHING': 3502,\n",
       " 'XX': 4345,\n",
       " 'Kkwhere': 2515,\n",
       " 'youhow': 11271,\n",
       " 'performed': 8763,\n",
       " 'waiting': 10880,\n",
       " 'machan': 7931,\n",
       " 'Thats': 3947,\n",
       " 'cool': 5680,\n",
       " 'gentleman': 6784,\n",
       " 'dignity': 6005,\n",
       " 'respect': 9337,\n",
       " 'peoples': 8755,\n",
       " 'much': 8261,\n",
       " 'shy': 9718,\n",
       " 'pa': 8648,\n",
       " 'operate': 8566,\n",
       " 'Still': 3768,\n",
       " 'looking': 7845,\n",
       " 'job': 7478,\n",
       " 'Tas': 3912,\n",
       " 'earn': 6189,\n",
       " 'ah': 4552,\n",
       " 'hi': 7079,\n",
       " 'stop': 10064,\n",
       " 'urgnt': 10738,\n",
       " 'real': 9186,\n",
       " 'yo': 11259,\n",
       " 'tickets': 10435,\n",
       " 'one': 8547,\n",
       " 'jacket': 7439,\n",
       " 'used': 10750,\n",
       " 'multis': 8269,\n",
       " 'started': 10012,\n",
       " 'requests': 9317,\n",
       " 'pain': 8660,\n",
       " 'came': 5274,\n",
       " 'bed': 4944,\n",
       " 'Double': 1694,\n",
       " 'coins': 5551,\n",
       " 'factory': 6417,\n",
       " 'gotta': 6876,\n",
       " 'cash': 5334,\n",
       " 'nitros': 8406,\n",
       " 'babe': 4856,\n",
       " 'Ela': 1765,\n",
       " 'kanoil': 7539,\n",
       " 'download': 6107,\n",
       " 'wen': 10983,\n",
       " 'Don‘t': 1691,\n",
       " 'stand': 10001,\n",
       " 'close': 5517,\n",
       " 'you‘ll': 11285,\n",
       " 'something': 9873,\n",
       " 'another': 4658,\n",
       " 'night': 8389,\n",
       " 'spent': 9948,\n",
       " 'late': 7671,\n",
       " 'afternoon': 4535,\n",
       " 'casualty': 5343,\n",
       " 'means': 8045,\n",
       " 'stuff42moro': 10112,\n",
       " 'includes': 7299,\n",
       " 'sheets': 9659,\n",
       " 'Smile': 3698,\n",
       " 'Pleasure': 3223,\n",
       " 'trouble': 10601,\n",
       " 'pours': 8937,\n",
       " 'Rain': 3355,\n",
       " 'sum1': 10162,\n",
       " 'Hurts': 2279,\n",
       " 'becoz': 4942,\n",
       " 'SOMEONE': 3500,\n",
       " 'Loves': 2655,\n",
       " 'Smiling': 3700,\n",
       " 'service': 9621,\n",
       " 'representative': 9314,\n",
       " '0800': 50,\n",
       " '169': 384,\n",
       " '6031': 726,\n",
       " '10am9pm': 309,\n",
       " 'guaranteed': 6935,\n",
       " '£5000': 11346,\n",
       " 'planning': 8841,\n",
       " 'buy': 5219,\n",
       " 'lido': 7745,\n",
       " '530': 697,\n",
       " 'show': 9702,\n",
       " 'work': 11107,\n",
       " 'ringtone': 9389,\n",
       " 'collected': 5558,\n",
       " 'Simply': 3668,\n",
       " 'text': 10336,\n",
       " 'password': 8718,\n",
       " 'MIX': 2720,\n",
       " '85069': 856,\n",
       " 'verify': 10802,\n",
       " 'Get': 2040,\n",
       " 'Usher': 4123,\n",
       " 'Britney': 1315,\n",
       " 'FML': 1850,\n",
       " 'PO': 3123,\n",
       " 'Box': 1292,\n",
       " '5249': 694,\n",
       " 'MK17': 2721,\n",
       " '92H': 914,\n",
       " '450Ppw': 636,\n",
       " 'Watching': 4257,\n",
       " 'telugu': 10317,\n",
       " 'moviewat': 8237,\n",
       " 'abt': 4446,\n",
       " 'loads': 7812,\n",
       " 'loans': 7814,\n",
       " 'Hi': 2215,\n",
       " 'Wk': 4310,\n",
       " 'hols': 7120,\n",
       " 'run': 9452,\n",
       " 'Forgot': 1927,\n",
       " 'hairdressers': 6968,\n",
       " 'appointment': 4707,\n",
       " 'four': 6651,\n",
       " 'shower': 9704,\n",
       " 'beforehand': 4956,\n",
       " 'cause': 5350,\n",
       " 'prob': 9022,\n",
       " 'cup': 5778,\n",
       " 'coffee': 5546,\n",
       " 'animation': 4645,\n",
       " 'nothing': 8441,\n",
       " 'else': 6248,\n",
       " 'Okay': 3052,\n",
       " 'price': 8998,\n",
       " 'long': 7838,\n",
       " 'legal': 7713,\n",
       " 'Wen': 4275,\n",
       " 'ave': 4832,\n",
       " 'ams': 4629,\n",
       " 'xx': 11221,\n",
       " 'gone': 6854,\n",
       " '4the': 675,\n",
       " 'driving': 6138,\n",
       " 'test': 10332,\n",
       " 'yet': 11251,\n",
       " 'wow': 11135,\n",
       " 'mean': 8041,\n",
       " 'guess': 6939,\n",
       " 'gave': 6765,\n",
       " 'boston': 5097,\n",
       " 'men': 8077,\n",
       " 'changed': 5384,\n",
       " 'search': 9556,\n",
       " 'location': 7817,\n",
       " 'nyc': 8480,\n",
       " 'Cuz': 1560,\n",
       " 'signin': 9732,\n",
       " 'page': 8656,\n",
       " 'says': 9519,\n",
       " 'Umma': 4093,\n",
       " 'life': 7748,\n",
       " 'vava': 10792,\n",
       " 'umma': 10667,\n",
       " 'lot': 7859,\n",
       " 'dear': 5872,\n",
       " 'wishes': 11057,\n",
       " 'birthday': 5022,\n",
       " 'making': 7966,\n",
       " 'truly': 10608,\n",
       " 'memorable': 8074,\n",
       " 'Aight': 1031,\n",
       " 'hit': 7098,\n",
       " 'would': 11132,\n",
       " 'ip': 7381,\n",
       " 'address': 4496,\n",
       " 'considering': 5649,\n",
       " 'computer': 5613,\n",
       " 'minecraft': 8132,\n",
       " 'server': 9620,\n",
       " 'Grumpy': 2085,\n",
       " 'old': 8541,\n",
       " 'people': 8754,\n",
       " 'mom': 8194,\n",
       " 'better': 4991,\n",
       " 'lying': 7922,\n",
       " 'jokes': 7493,\n",
       " 'worry': 11123,\n",
       " 'busy': 5214,\n",
       " 'plural': 8865,\n",
       " 'noun': 8448,\n",
       " 'research': 9323,\n",
       " 'Going': 2059,\n",
       " 'dinnermsg': 6015,\n",
       " 'cos': 5698,\n",
       " 'things': 10389,\n",
       " 'scared': 9525,\n",
       " 'mah': 7952,\n",
       " 'Cos': 1523,\n",
       " 'loud': 7870,\n",
       " 'GENT': 1972,\n",
       " 'contact': 5654,\n",
       " 'Last': 2595,\n",
       " 'weekends': 10964,\n",
       " 'draw': 6117,\n",
       " 'shows': 9709,\n",
       " 'GUARANTEED': 2015,\n",
       " '09064012160': 238,\n",
       " 'Code': 1494,\n",
       " 'K52': 2457,\n",
       " '12hrs': 338,\n",
       " '150ppm': 370,\n",
       " 'Wa': 4233,\n",
       " 'openin': 8563,\n",
       " 'sentence': 9610,\n",
       " 'formal': 6635,\n",
       " 'Anyway': 1072,\n",
       " 'fine': 6531,\n",
       " 'juz': 7522,\n",
       " 'tt': 10618,\n",
       " 'eatin': 6202,\n",
       " 'puttin': 9103,\n",
       " 'weightHaha': 10971,\n",
       " 'anythin': 4678,\n",
       " 'happened': 6992,\n",
       " 'entered': 6287,\n",
       " 'cabin': 5234,\n",
       " 'PA': 3091,\n",
       " 'Happy': 2178,\n",
       " 'Bday': 1232,\n",
       " 'Boss': 1290,\n",
       " 'felt': 6492,\n",
       " 'askd': 4771,\n",
       " 'invited': 7374,\n",
       " 'apartment': 4687,\n",
       " 'went': 10985,\n",
       " 'winner': 11047,\n",
       " 'specially': 9935,\n",
       " 'holiday': 7116,\n",
       " 'flights': 6575,\n",
       " 'inc': 7294,\n",
       " 'operator': 8567,\n",
       " '0871277810910pmin': 123,\n",
       " '18': 387,\n",
       " 'Goodo': 2068,\n",
       " 'must': 8286,\n",
       " 'friday': 6678,\n",
       " 'eggpotato': 6227,\n",
       " 'ratio': 9163,\n",
       " 'tortilla': 10540,\n",
       " 'needed': 8349,\n",
       " 'Hmmmy': 2236,\n",
       " 'uncle': 10672,\n",
       " 'informed': 7321,\n",
       " 'paying': 8733,\n",
       " 'school': 9531,\n",
       " 'directly': 6019,\n",
       " 'pls': 8861,\n",
       " 'food': 6611,\n",
       " 'PRIVATE': 3153,\n",
       " '2004': 429,\n",
       " 'Account': 1004,\n",
       " 'Statement': 3761,\n",
       " '07742676969': 31,\n",
       " '786': 788,\n",
       " 'unredeemed': 10710,\n",
       " 'Points': 3238,\n",
       " '08719180248': 171,\n",
       " 'Identifier': 2337,\n",
       " '45239': 639,\n",
       " 'Expires': 1818,\n",
       " '£2000': 11331,\n",
       " 'Caller': 1420,\n",
       " '5903': 702,\n",
       " 'Landline': 2590,\n",
       " '09064019788': 244,\n",
       " 'BOX42WR29C': 1185,\n",
       " '150PPM': 355,\n",
       " 'applespairsall': 4701,\n",
       " 'malarky': 7968,\n",
       " 'Todays': 3996,\n",
       " 'Voda': 4162,\n",
       " 'numbers': 8471,\n",
       " 'ending': 6266,\n",
       " '7548': 783,\n",
       " '350': 566,\n",
       " 'award': 4843,\n",
       " 'match': 8008,\n",
       " 'please': 8854,\n",
       " '08712300220': 105,\n",
       " 'quoting': 9130,\n",
       " '4041': 610,\n",
       " 'standard': 10002,\n",
       " 'rates': 9161,\n",
       " 'app': 4695,\n",
       " 'sao': 9491,\n",
       " 'mu': 8260,\n",
       " 'Ü': 11362,\n",
       " 'predict': 8965,\n",
       " 'üll': 11366,\n",
       " 'buying': 5222,\n",
       " 'Good': 2063,\n",
       " 'knowyetunde': 7608,\n",
       " 'sent': 9609,\n",
       " 'bother': 5099,\n",
       " 'sending': 9602,\n",
       " 'involve': 7378,\n",
       " 'imposed': 7284,\n",
       " 'apologise': 4692,\n",
       " 'HEY': 2123,\n",
       " 'GIRL': 1978,\n",
       " 'HOPE': 2141,\n",
       " 'WELL': 4190,\n",
       " 'DEL': 1580,\n",
       " 'BAK': 1134,\n",
       " 'LONG': 2563,\n",
       " 'TIME': 3868,\n",
       " 'GIVE': 1981,\n",
       " 'CALL': 1341,\n",
       " 'SUM': 3551,\n",
       " 'LUCYxx': 2583,\n",
       " 'Kkhow': 2509,\n",
       " 'cost': 5700,\n",
       " 'Dear': 1631,\n",
       " 'Tmorrowpls': 3989,\n",
       " 'accomodate': 4463,\n",
       " 'answer': 4661,\n",
       " 'question': 9116,\n",
       " 'Sunshine': 3802,\n",
       " 'Quiz': 3305,\n",
       " 'Wkly': 4311,\n",
       " 'Q': 3291,\n",
       " 'Win': 4299,\n",
       " 'top': 10531,\n",
       " 'Sony': 3717,\n",
       " 'DVD': 1611,\n",
       " 'player': 8846,\n",
       " 'country': 5714,\n",
       " 'Algarve': 1047,\n",
       " 'ansr': 4660,\n",
       " '82277': 827,\n",
       " 'SPTyrone': 3526,\n",
       " 'Want': 4248,\n",
       " 'laid': 7643,\n",
       " 'Dogging': 1683,\n",
       " 'locations': 7818,\n",
       " 'direct': 6018,\n",
       " 'mob': 8177,\n",
       " 'Join': 2435,\n",
       " 'UKs': 4060,\n",
       " 'largest': 7665,\n",
       " 'Network': 2950,\n",
       " 'bt': 5178,\n",
       " 'Txting': 4049,\n",
       " 'GRAVEL': 2011,\n",
       " '69888': 752,\n",
       " 'Nt': 3007,\n",
       " 'ec2a': 6205,\n",
       " '31pmsg150p': 559,\n",
       " 'haf': 6962,\n",
       " 'msn': 8255,\n",
       " 'yijuehotmailcom': 11257,\n",
       " 'rooms': 9424,\n",
       " 'befor': 4955,\n",
       " 'activities': 4486,\n",
       " 'msgs': 8248,\n",
       " 'chat': 5406,\n",
       " 'svc': 10210,\n",
       " 'Hardcore': 2180,\n",
       " 'services': 9622,\n",
       " 'GO': 1986,\n",
       " '69988': 756,\n",
       " 'Age': 1025,\n",
       " 'Verify': 4152,\n",
       " 'yr': 11288,\n",
       " 'Got': 2073,\n",
       " 'lazy': 7693,\n",
       " 'type': 10651,\n",
       " 'forgot': 6632,\n",
       " 'lect': 7707,\n",
       " 'pouch': 8932,\n",
       " 'Sir': 3675,\n",
       " 'Waiting': 4240,\n",
       " 'mail': 7955,\n",
       " 'swt': 10231,\n",
       " 'Nver': 3012,\n",
       " 'tired': 10458,\n",
       " 'little': 7800,\n",
       " 'lovable': 7874,\n",
       " 'persons': 8777,\n",
       " 'Cozsomtimes': 1532,\n",
       " 'occupy': 8496,\n",
       " 'biggest': 5006,\n",
       " 'Hearts': 2192,\n",
       " 'Gud': 2089,\n",
       " 'ni8': 8382,\n",
       " 'open': 8560,\n",
       " 'ya': 11230,\n",
       " 'dot': 6100,\n",
       " 'Whats': 4284,\n",
       " 'staff': 9992,\n",
       " 'taking': 10258,\n",
       " 'replied': 9307,\n",
       " 'Randy': 3362,\n",
       " 'sexy': 9636,\n",
       " 'female': 6493,\n",
       " 'local': 7816,\n",
       " 'Luv': 2668,\n",
       " 'Netcollex': 2949,\n",
       " 'Ltd': 2659,\n",
       " '08700621170150p': 75,\n",
       " 'Stop': 3770,\n",
       " 'Ummmawill': 4094,\n",
       " 'inour': 7337,\n",
       " 'begin': 4961,\n",
       " 'qatar': 9108,\n",
       " 'pray': 8959,\n",
       " 'hard': 7001,\n",
       " 'Ki': 2491,\n",
       " 'deleted': 5916,\n",
       " 'Sindu': 3672,\n",
       " 'birla': 5019,\n",
       " 'soft': 9856,\n",
       " 'wine': 11044,\n",
       " 'flowing': 6589,\n",
       " 'nevering': 8372,\n",
       " 'thk': 10399,\n",
       " 'cine': 5485,\n",
       " 'plaza': 8852,\n",
       " 'Ur': 4116,\n",
       " ...}"
      ]
     },
     "execution_count": 49,
     "metadata": {},
     "output_type": "execute_result"
    }
   ],
   "source": [
    "bow_transformer.vocabulary_"
   ]
  },
  {
   "cell_type": "markdown",
   "metadata": {},
   "source": [
    "Let's take one text message and get its bag-of-words counts as a vector, putting to use our new `bow_transformer`:"
   ]
  },
  {
   "cell_type": "code",
   "execution_count": 52,
   "metadata": {
    "ExecuteTime": {
     "end_time": "2019-11-04T03:38:12.294848Z",
     "start_time": "2019-11-04T03:38:12.278891Z"
    }
   },
   "outputs": [
    {
     "data": {
      "text/plain": [
       "['0',\n",
       " '008704050406',\n",
       " '0089my',\n",
       " '0121',\n",
       " '01223585236',\n",
       " '01223585334',\n",
       " '0125698789',\n",
       " '02',\n",
       " '020603',\n",
       " '0207',\n",
       " '02070836089',\n",
       " '02072069400',\n",
       " '02073162414',\n",
       " '02085076972',\n",
       " '020903',\n",
       " '021',\n",
       " '050703',\n",
       " '0578',\n",
       " '06',\n",
       " '060505',\n",
       " '061104',\n",
       " '07008009200',\n",
       " '07046744435',\n",
       " '07090201529',\n",
       " '07090298926',\n",
       " '07099833605',\n",
       " '071104',\n",
       " '07123456789',\n",
       " '0721072',\n",
       " '07732584351',\n",
       " '07734396839',\n",
       " '07742676969',\n",
       " '07753741225',\n",
       " '0776xxxxxxx',\n",
       " '07786200117',\n",
       " '077xxx',\n",
       " '078',\n",
       " '07801543489',\n",
       " '07808',\n",
       " '07808247860',\n",
       " '07808726822',\n",
       " '07815296484',\n",
       " '07821230901',\n",
       " '0784987',\n",
       " '0789xxxxxxx',\n",
       " '0794674629107880867867',\n",
       " '0796XXXXXX',\n",
       " '07973788240',\n",
       " '07XXXXXXXXX',\n",
       " '07xxxxxxxxx',\n",
       " '0800',\n",
       " '08000407165',\n",
       " '08000776320',\n",
       " '08000839402',\n",
       " '08000930705',\n",
       " '08000938767',\n",
       " '08001950382',\n",
       " '08002888812',\n",
       " '08002986030',\n",
       " '08002986906',\n",
       " '08002988890',\n",
       " '08006344447',\n",
       " '0808',\n",
       " '08081263000',\n",
       " '08081560665',\n",
       " '0825',\n",
       " '0844',\n",
       " '08448350055',\n",
       " '08448714184',\n",
       " '0845',\n",
       " '08450542832',\n",
       " '08452810071',\n",
       " '08452810073',\n",
       " '08452810075over18s',\n",
       " '0870',\n",
       " '08700621170150p',\n",
       " '08701213186',\n",
       " '08701237397',\n",
       " '08701417012',\n",
       " '08701417012150p',\n",
       " '0870141701216',\n",
       " '087016248',\n",
       " '08701752560',\n",
       " '087018728737',\n",
       " '0870241182716',\n",
       " '08702490080',\n",
       " '08702840625',\n",
       " '08702840625COMUK',\n",
       " '08704439680',\n",
       " '08704439680TsCs',\n",
       " '08706091795',\n",
       " '0870737910216yrs',\n",
       " '08707500020',\n",
       " '08707509020',\n",
       " '0870753331018',\n",
       " '08707808226',\n",
       " '08708034412',\n",
       " '08708800282',\n",
       " '08709222922',\n",
       " '08709501522',\n",
       " '0870k',\n",
       " '087104711148',\n",
       " '08712101358',\n",
       " '08712103738',\n",
       " '0871212025016',\n",
       " '08712300220',\n",
       " '087123002209am7pm',\n",
       " '08712317606',\n",
       " '08712400200',\n",
       " '08712400603',\n",
       " '08712402050',\n",
       " '08712402578',\n",
       " '08712402779',\n",
       " '08712402902',\n",
       " '08712402972',\n",
       " '08712404000',\n",
       " '08712405020',\n",
       " '08712405022',\n",
       " '08712460324',\n",
       " '08712460324nat',\n",
       " '08712466669',\n",
       " '0871277810710pmin',\n",
       " '0871277810810',\n",
       " '0871277810910pmin',\n",
       " '087143423992stop',\n",
       " '087147123779am7pm',\n",
       " '08714712379',\n",
       " '08714712388',\n",
       " '08714712394',\n",
       " '08714712412',\n",
       " '08714714011',\n",
       " '08714719523',\n",
       " '08715203028',\n",
       " '08715203649',\n",
       " '08715203652',\n",
       " '08715203656',\n",
       " '08715203677',\n",
       " '08715203685',\n",
       " '08715203694',\n",
       " '08715205273',\n",
       " '08715500022',\n",
       " '08715705022',\n",
       " '08717111821',\n",
       " '08717168528',\n",
       " '08717205546',\n",
       " '08717507382',\n",
       " '08717507711',\n",
       " '08717509990',\n",
       " '08717890890£150',\n",
       " '08717895698',\n",
       " '08717898035',\n",
       " '08718711108',\n",
       " '08718720201',\n",
       " '08718723815',\n",
       " '08718725756',\n",
       " '08718726270',\n",
       " '08718726270150gbpmtmsg18',\n",
       " '08718726970',\n",
       " '08718726971',\n",
       " '08718726978',\n",
       " '087187272008',\n",
       " '08718727868',\n",
       " '08718727870',\n",
       " '08718729755',\n",
       " '08718729758',\n",
       " '08718730555',\n",
       " '08718730666',\n",
       " '08718738001',\n",
       " '08718738002',\n",
       " '08718738034',\n",
       " '08719180219',\n",
       " '08719180248',\n",
       " '08719181259',\n",
       " '08719181503',\n",
       " '08719181513',\n",
       " '08719839835',\n",
       " '08719899217',\n",
       " '08719899229',\n",
       " '08719899230',\n",
       " '09041940223',\n",
       " '09050000301',\n",
       " '09050000332',\n",
       " '09050000460',\n",
       " '09050000555',\n",
       " '09050000878',\n",
       " '09050000928',\n",
       " '09050001295',\n",
       " '09050001808',\n",
       " '09050002311',\n",
       " '09050003091',\n",
       " '09050005321',\n",
       " '09050090044',\n",
       " '09050280520',\n",
       " '09053750005',\n",
       " '09056242159',\n",
       " '09057039994',\n",
       " '09058091854',\n",
       " '09058091870',\n",
       " '09058094454',\n",
       " '09058094455',\n",
       " '09058094507',\n",
       " '09058094565',\n",
       " '09058094583',\n",
       " '09058094594',\n",
       " '09058094597',\n",
       " '09058094599',\n",
       " '09058095107',\n",
       " '09058095201',\n",
       " '09058097189',\n",
       " '09058097218',\n",
       " '09058098002',\n",
       " '09058099801',\n",
       " '09061104276',\n",
       " '09061104283',\n",
       " '09061209465',\n",
       " '09061213237',\n",
       " '09061221061',\n",
       " '09061221066',\n",
       " '09061701444',\n",
       " '09061701461',\n",
       " '09061701851',\n",
       " '09061701939',\n",
       " '09061702893',\n",
       " '09061743386',\n",
       " '09061743806',\n",
       " '09061743810',\n",
       " '09061743811',\n",
       " '09061744553',\n",
       " '09061749602',\n",
       " '09061790121',\n",
       " '09061790125',\n",
       " '09061790126',\n",
       " '09063440451',\n",
       " '09063442151',\n",
       " '09063458130',\n",
       " '0906346330',\n",
       " '09064011000',\n",
       " '09064012103',\n",
       " '09064012160',\n",
       " '09064015307',\n",
       " '09064017295',\n",
       " '09064017305',\n",
       " '09064018838',\n",
       " '09064019014',\n",
       " '09064019788',\n",
       " '09065069120',\n",
       " '09065069154',\n",
       " '09065171142stopsms08',\n",
       " '09065171142stopsms08718727870150ppm',\n",
       " '09065174042',\n",
       " '09065394514',\n",
       " '09065394973',\n",
       " '09065989180',\n",
       " '09065989182',\n",
       " '09066350750',\n",
       " '09066358152',\n",
       " '09066358361',\n",
       " '09066361921',\n",
       " '09066362206',\n",
       " '09066362220',\n",
       " '09066362231',\n",
       " '09066364311',\n",
       " '09066364349',\n",
       " '09066364589',\n",
       " '09066368327',\n",
       " '09066368470',\n",
       " '09066368753',\n",
       " '09066380611',\n",
       " '09066382422',\n",
       " '09066612661',\n",
       " '09066649731from',\n",
       " '09066660100',\n",
       " '09071512432',\n",
       " '09071512433',\n",
       " '09071517866',\n",
       " '09077818151',\n",
       " '09090204448',\n",
       " '09090900040',\n",
       " '09094100151',\n",
       " '09094646631',\n",
       " '09094646899',\n",
       " '09095350301',\n",
       " '09096102316',\n",
       " '09099725823',\n",
       " '09099726395',\n",
       " '09099726429',\n",
       " '09099726481',\n",
       " '09099726553',\n",
       " '09111030116',\n",
       " '09111032124',\n",
       " '09701213186',\n",
       " '0ANETWORKS',\n",
       " '1',\n",
       " '10',\n",
       " '100',\n",
       " '1000',\n",
       " '10000',\n",
       " '1000s',\n",
       " '100603',\n",
       " '100pSMS',\n",
       " '100s',\n",
       " '1010',\n",
       " '1013',\n",
       " '101mega',\n",
       " '1030',\n",
       " '10803',\n",
       " '10K',\n",
       " '10am',\n",
       " '10am7pm',\n",
       " '10am9pm',\n",
       " '10k',\n",
       " '10p',\n",
       " '10pmin',\n",
       " '10ppm',\n",
       " '10th',\n",
       " '11',\n",
       " '1120',\n",
       " '113',\n",
       " '1131',\n",
       " '11414',\n",
       " '1146',\n",
       " '1148',\n",
       " '116',\n",
       " '1172',\n",
       " '118pmsg',\n",
       " '11mths',\n",
       " '12',\n",
       " '120',\n",
       " '12000pes',\n",
       " '1205',\n",
       " '121',\n",
       " '1225',\n",
       " '123',\n",
       " '1230',\n",
       " '125gift',\n",
       " '128',\n",
       " '12Mths',\n",
       " '12hours',\n",
       " '12hrs',\n",
       " '12mths',\n",
       " '12price',\n",
       " '13',\n",
       " '130',\n",
       " '131004',\n",
       " '1327',\n",
       " '13404',\n",
       " '139',\n",
       " '140',\n",
       " '1405',\n",
       " '140ppm',\n",
       " '145',\n",
       " '146tf150p',\n",
       " '14thMarch',\n",
       " '150',\n",
       " '150P',\n",
       " '150PPM',\n",
       " '150p',\n",
       " '150pMSGRCVD',\n",
       " '150pMTmsg',\n",
       " '150pMsg',\n",
       " '150pMsgrcvdHGSuite3422LandsRowW1J6HL',\n",
       " '150pMt',\n",
       " '150pMtmsgrcvd18',\n",
       " '150pSMS',\n",
       " '150pday',\n",
       " '150pm',\n",
       " '150pmeg',\n",
       " '150pmin',\n",
       " '150pmsg',\n",
       " '150ppermessSubscription',\n",
       " '150ppm',\n",
       " '150ppmPOBox10183BhamB64XE',\n",
       " '150ppmsg',\n",
       " '150prcvd',\n",
       " '150ptext',\n",
       " '150ptone',\n",
       " '150pwk',\n",
       " '151',\n",
       " '1526',\n",
       " '153',\n",
       " '15541',\n",
       " '15pmin',\n",
       " '16',\n",
       " '1680',\n",
       " '169',\n",
       " '16only',\n",
       " '177',\n",
       " '18',\n",
       " '180',\n",
       " '181104',\n",
       " '1843',\n",
       " '186£150moreFrmMob',\n",
       " '18only',\n",
       " '18ptxt',\n",
       " '18yrs',\n",
       " '195',\n",
       " '1956669',\n",
       " '1AppleDayNo',\n",
       " '1Cup',\n",
       " '1DA',\n",
       " '1ER',\n",
       " '1Hanuman',\n",
       " '1His',\n",
       " '1IM',\n",
       " '1LemonDayNo',\n",
       " '1McFlyAll',\n",
       " '1Tulsi',\n",
       " '1U',\n",
       " '1Unbreakable',\n",
       " '1Winaweek',\n",
       " '1Winawk',\n",
       " '1YF',\n",
       " '1childish',\n",
       " '1hr',\n",
       " '1month',\n",
       " '1pm',\n",
       " '1s',\n",
       " '1st',\n",
       " '1st4Terms',\n",
       " '1stchoicecouk',\n",
       " '1stone',\n",
       " '1u',\n",
       " '1x150pwk',\n",
       " '2',\n",
       " '20',\n",
       " '200',\n",
       " '2000',\n",
       " '20000',\n",
       " '2003',\n",
       " '2004',\n",
       " '2005',\n",
       " '2006',\n",
       " '2007',\n",
       " '2025050',\n",
       " '20F',\n",
       " '20M12AQ',\n",
       " '20p',\n",
       " '20pmin',\n",
       " '21',\n",
       " '211104',\n",
       " '215',\n",
       " '21870000Hi',\n",
       " '21m',\n",
       " '21st',\n",
       " '22',\n",
       " '220CM2',\n",
       " '23',\n",
       " '2309',\n",
       " '230ish',\n",
       " '24',\n",
       " '241',\n",
       " '241004',\n",
       " '247MP',\n",
       " '24Hrs',\n",
       " '24M',\n",
       " '24hrs',\n",
       " '24th',\n",
       " '25',\n",
       " '250',\n",
       " '255',\n",
       " '25F',\n",
       " '25p',\n",
       " '260305',\n",
       " '261004',\n",
       " '261104',\n",
       " '2667',\n",
       " '26th',\n",
       " '2703',\n",
       " '27603',\n",
       " '28',\n",
       " '2814032',\n",
       " '285',\n",
       " '28days',\n",
       " '28th',\n",
       " '28thFebTCs',\n",
       " '290305',\n",
       " '29100',\n",
       " '29M',\n",
       " '2B',\n",
       " '2Bajarangabali',\n",
       " '2C',\n",
       " '2DOCDPLEASE',\n",
       " '2EZ',\n",
       " '2End',\n",
       " '2GETHA',\n",
       " '2GEVA',\n",
       " '2Hook',\n",
       " '2I',\n",
       " '2IM',\n",
       " '2KBSubject',\n",
       " '2MORO',\n",
       " '2MOROW',\n",
       " '2MORRO',\n",
       " '2MRW',\n",
       " '2MWEN',\n",
       " '2NITE',\n",
       " '2NITETELL',\n",
       " '2PX',\n",
       " '2Police',\n",
       " '2StopTx',\n",
       " '2StopTxt',\n",
       " '2U',\n",
       " '2Untamed',\n",
       " '2WATERSHD',\n",
       " '2WT',\n",
       " '2WU',\n",
       " '2When',\n",
       " '2bold',\n",
       " '2channel',\n",
       " '2day',\n",
       " '2daylove',\n",
       " '2exit',\n",
       " '2geva',\n",
       " '2go',\n",
       " '2godid',\n",
       " '2gthr',\n",
       " '2hrs',\n",
       " '2marrow',\n",
       " '2moro',\n",
       " '2morow',\n",
       " '2morro',\n",
       " '2morrow',\n",
       " '2morrowxxxx',\n",
       " '2mro',\n",
       " '2mrw',\n",
       " '2naughty',\n",
       " '2nd',\n",
       " '2nhite',\n",
       " '2nights',\n",
       " '2nite',\n",
       " '2optout',\n",
       " '2optoutD3WV',\n",
       " '2p',\n",
       " '2rcv',\n",
       " '2stop',\n",
       " '2stoptxt',\n",
       " '2u',\n",
       " '2u2',\n",
       " '2waxsto',\n",
       " '2wks',\n",
       " '2years',\n",
       " '2yr',\n",
       " '2yrs',\n",
       " '3',\n",
       " '30',\n",
       " '300',\n",
       " '3000',\n",
       " '300603',\n",
       " '300603tcsBCM4235WC1N3XXcallcost150ppmmobilesvary',\n",
       " '300p',\n",
       " '3030',\n",
       " '30Apr',\n",
       " '30pptxt',\n",
       " '30s',\n",
       " '30th',\n",
       " '31',\n",
       " '3100',\n",
       " '310303',\n",
       " '311004',\n",
       " '31pmsg150p',\n",
       " '32000',\n",
       " '3230',\n",
       " '32323',\n",
       " '326',\n",
       " '32F',\n",
       " '330',\n",
       " '350',\n",
       " '3510i',\n",
       " '35p',\n",
       " '3650',\n",
       " '36504',\n",
       " '3680',\n",
       " '3680Offer',\n",
       " '373',\n",
       " '3750',\n",
       " '391784',\n",
       " '3AJ',\n",
       " '3Cover',\n",
       " '3DB',\n",
       " '3G',\n",
       " '3GBP',\n",
       " '3Lions',\n",
       " '3MOBILE',\n",
       " '3Maruti',\n",
       " '3POUND',\n",
       " '3SS',\n",
       " '3Sentiment',\n",
       " '3U',\n",
       " '3UZ',\n",
       " '3Unkempt',\n",
       " '3Wife',\n",
       " '3XX',\n",
       " '3d',\n",
       " '3days',\n",
       " '3g',\n",
       " '3hrs',\n",
       " '3lp',\n",
       " '3miles',\n",
       " '3mins',\n",
       " '3optical',\n",
       " '3qxj9',\n",
       " '3rd',\n",
       " '3u',\n",
       " '3wks',\n",
       " '3x£150pw',\n",
       " '4',\n",
       " '40',\n",
       " '400',\n",
       " '400minsCall',\n",
       " '402',\n",
       " '4041',\n",
       " '40411',\n",
       " '40533',\n",
       " '40GB',\n",
       " '40mph',\n",
       " '415',\n",
       " '41685',\n",
       " '41782',\n",
       " '420',\n",
       " '42049',\n",
       " '4217',\n",
       " '42478',\n",
       " '42810',\n",
       " '430',\n",
       " '434',\n",
       " '44',\n",
       " '4403LDNW1A7RW18',\n",
       " '447797706009',\n",
       " '447801259231',\n",
       " '447per',\n",
       " '448712404000Please',\n",
       " '449050000301',\n",
       " '449071512431',\n",
       " '449month',\n",
       " '45',\n",
       " '450',\n",
       " '450Ppw',\n",
       " '450p',\n",
       " '450pw',\n",
       " '45239',\n",
       " '46',\n",
       " '47',\n",
       " '4712',\n",
       " '4742',\n",
       " '4882',\n",
       " '48922',\n",
       " '49557',\n",
       " '4BREKKIE',\n",
       " '4Cook',\n",
       " '4EVA',\n",
       " '4GET',\n",
       " '4JX',\n",
       " '4Lux',\n",
       " '4MY',\n",
       " '4Pavanaputra',\n",
       " '4Press',\n",
       " '4TCtxt',\n",
       " '4U',\n",
       " '4WARD',\n",
       " '4a',\n",
       " '4d',\n",
       " '4eva',\n",
       " '4few',\n",
       " '4fil',\n",
       " '4get',\n",
       " '4give',\n",
       " '4got',\n",
       " '4goten',\n",
       " '4info',\n",
       " '4mths',\n",
       " '4o',\n",
       " '4rowdy',\n",
       " '4some1',\n",
       " '4th',\n",
       " '4thNOVBEHIND',\n",
       " '4the',\n",
       " '4txt120p',\n",
       " '4txtú120',\n",
       " '4u',\n",
       " '4uTxt',\n",
       " '4ui',\n",
       " '4w',\n",
       " '4wrd',\n",
       " '4years',\n",
       " '5',\n",
       " '50',\n",
       " '500',\n",
       " '5000',\n",
       " '505060',\n",
       " '50p',\n",
       " '50s',\n",
       " '515',\n",
       " '515pm',\n",
       " '5226',\n",
       " '5249',\n",
       " '526',\n",
       " '528',\n",
       " '530',\n",
       " '532',\n",
       " '54',\n",
       " '542',\n",
       " '545',\n",
       " '5903',\n",
       " '5Gardener',\n",
       " '5Gently',\n",
       " '5I\\x92m',\n",
       " '5K',\n",
       " '5Sankatmochan',\n",
       " '5Terror',\n",
       " '5WB',\n",
       " '5WE',\n",
       " '5WQ',\n",
       " '5digital',\n",
       " '5free',\n",
       " '5ful',\n",
       " '5ish',\n",
       " '5min',\n",
       " '5mls',\n",
       " '5p',\n",
       " '5pm',\n",
       " '5th',\n",
       " '5we',\n",
       " '5wkg',\n",
       " '5years',\n",
       " '6',\n",
       " '600',\n",
       " '6031',\n",
       " '60400thousadi',\n",
       " '60P',\n",
       " '60pmin',\n",
       " '61200',\n",
       " '61610',\n",
       " '62220Cncl',\n",
       " '6230',\n",
       " '62468',\n",
       " '62735£450',\n",
       " '630',\n",
       " '63miles',\n",
       " '645',\n",
       " '645pm',\n",
       " '650',\n",
       " '6669',\n",
       " '67441233',\n",
       " '68866',\n",
       " '69101',\n",
       " '69200',\n",
       " '69669',\n",
       " '69696',\n",
       " '69698',\n",
       " '69855',\n",
       " '6986618',\n",
       " '69876',\n",
       " '69888',\n",
       " '69888Nyt',\n",
       " '69911£150p',\n",
       " '69969',\n",
       " '69988',\n",
       " '6Cruel',\n",
       " '6HL',\n",
       " '6HouseMaid',\n",
       " '6Ramaduth',\n",
       " '6WU',\n",
       " '6ZF',\n",
       " '6days',\n",
       " '6hrs',\n",
       " '6ish',\n",
       " '6missed',\n",
       " '6months',\n",
       " '6pm',\n",
       " '6romantic',\n",
       " '6th',\n",
       " '6times',\n",
       " '7',\n",
       " '700',\n",
       " '725',\n",
       " '7250',\n",
       " '7250i',\n",
       " '730',\n",
       " '730ish',\n",
       " '730pm',\n",
       " '731',\n",
       " '74355',\n",
       " '750',\n",
       " '7548',\n",
       " '7634',\n",
       " '7684',\n",
       " '7732584351',\n",
       " '78',\n",
       " '786',\n",
       " '7876150ppm',\n",
       " '78pmin',\n",
       " '7Children',\n",
       " '7Mahaveer',\n",
       " '7Romantic',\n",
       " '7WS',\n",
       " '7ZS',\n",
       " '7am',\n",
       " '7cfca1a',\n",
       " '7ish',\n",
       " '7oz',\n",
       " '7pm',\n",
       " '7shy',\n",
       " '7th',\n",
       " '8',\n",
       " '800',\n",
       " '8000930705',\n",
       " '80062',\n",
       " '8007',\n",
       " '80082',\n",
       " '80086',\n",
       " '80122300pwk',\n",
       " '80155',\n",
       " '80160',\n",
       " '80182',\n",
       " '8027',\n",
       " '80488',\n",
       " '80488biz',\n",
       " '80608',\n",
       " '8077',\n",
       " '80878',\n",
       " '80s',\n",
       " '81010',\n",
       " '81151',\n",
       " '81303',\n",
       " '81618',\n",
       " '816183',\n",
       " '82242',\n",
       " '82277',\n",
       " '82277unsub',\n",
       " '82324',\n",
       " '82468',\n",
       " '830',\n",
       " '83021',\n",
       " '83039',\n",
       " '83049',\n",
       " '83110',\n",
       " '83118',\n",
       " '83222',\n",
       " '83332Please',\n",
       " '83338',\n",
       " '83355',\n",
       " '83370',\n",
       " '83383',\n",
       " '83435',\n",
       " '83600',\n",
       " '83738',\n",
       " '84',\n",
       " '84025',\n",
       " '84122',\n",
       " '84128',\n",
       " '84128custcare',\n",
       " '84199',\n",
       " '84484',\n",
       " '85',\n",
       " '850',\n",
       " '85023',\n",
       " '85069',\n",
       " '85222',\n",
       " '85233',\n",
       " '8552',\n",
       " '85555',\n",
       " '86021',\n",
       " '861',\n",
       " '863',\n",
       " '864233',\n",
       " '86688',\n",
       " '86888',\n",
       " '87021',\n",
       " '87066',\n",
       " '87070',\n",
       " '87077',\n",
       " '87121',\n",
       " '87131',\n",
       " '8714714',\n",
       " '87239',\n",
       " '87575',\n",
       " '8800',\n",
       " '88039',\n",
       " '88039SkilGmeTsCs087147403231WinawkAge16£150perWKsub',\n",
       " '88066',\n",
       " '88088',\n",
       " '88222',\n",
       " '8830',\n",
       " '88600',\n",
       " '88800',\n",
       " '8883',\n",
       " '88877',\n",
       " '88877FREE',\n",
       " '88888',\n",
       " '89034',\n",
       " '89070',\n",
       " '89080',\n",
       " '89105',\n",
       " '89123',\n",
       " '89545',\n",
       " '89555',\n",
       " '89693',\n",
       " '89938',\n",
       " '8Attractive',\n",
       " '8Ball',\n",
       " '8Lovable',\n",
       " '8Neighbour',\n",
       " '8WP',\n",
       " '8am',\n",
       " '8hr',\n",
       " '8lb',\n",
       " '8o',\n",
       " '8pm',\n",
       " '8th',\n",
       " '9',\n",
       " '900',\n",
       " '9061100010',\n",
       " '9153',\n",
       " '924',\n",
       " '92H',\n",
       " '930',\n",
       " '945',\n",
       " '946',\n",
       " '95pax',\n",
       " '96',\n",
       " '97N7QP',\n",
       " '98321561',\n",
       " '9996',\n",
       " '9AE',\n",
       " '9YT',\n",
       " '9am',\n",
       " '9am11pm',\n",
       " '9decent',\n",
       " '9funny',\n",
       " '9ja',\n",
       " '9pm',\n",
       " '9t',\n",
       " '9th',\n",
       " 'A21',\n",
       " 'ABOUTAS',\n",
       " 'ABTA',\n",
       " 'ACCEPT',\n",
       " 'ACL03530150PM',\n",
       " 'ACTION',\n",
       " 'ACTUALLY',\n",
       " 'AD',\n",
       " 'ADAM',\n",
       " 'ADDAMSFA',\n",
       " 'ADP',\n",
       " 'ADRINK',\n",
       " 'AFEW',\n",
       " 'AFTERNOON',\n",
       " 'AG',\n",
       " 'AGAINcall',\n",
       " 'AGE',\n",
       " 'AGESRING',\n",
       " 'AGO',\n",
       " 'AGOCUSOON',\n",
       " 'AGreen',\n",
       " 'AH',\n",
       " 'AIG',\n",
       " 'AINT',\n",
       " 'AL',\n",
       " 'ALERT',\n",
       " 'ALETTER',\n",
       " 'ALEX',\n",
       " 'ALRITE',\n",
       " 'ALSO',\n",
       " 'ALWAYS',\n",
       " 'AMY',\n",
       " 'ANAL',\n",
       " 'ANNIE',\n",
       " 'ANS',\n",
       " 'ANSWER',\n",
       " 'ANTELOPE',\n",
       " 'ANYTHING',\n",
       " 'AOM',\n",
       " 'APPY',\n",
       " 'APRIL',\n",
       " 'AREA',\n",
       " 'ARIES',\n",
       " 'AROUND',\n",
       " 'ARR',\n",
       " 'ASAP',\n",
       " 'ASKED',\n",
       " 'ASLEEP',\n",
       " 'ASTHERE',\n",
       " 'ASUSUAL1',\n",
       " 'AUCTION',\n",
       " 'AUGUST',\n",
       " 'AV',\n",
       " 'AVA',\n",
       " 'AVE',\n",
       " 'AVENT',\n",
       " 'AWAITING',\n",
       " 'AWARD',\n",
       " 'AXIS',\n",
       " 'Aah',\n",
       " 'Aaniye',\n",
       " 'Aaooooright',\n",
       " 'Ab',\n",
       " 'Abbey',\n",
       " 'Abeg',\n",
       " 'Aberdeen',\n",
       " 'Abiola',\n",
       " ...]"
      ]
     },
     "execution_count": 52,
     "metadata": {},
     "output_type": "execute_result"
    }
   ],
   "source": [
    "bow_transformer.get_feature_names()"
   ]
  },
  {
   "cell_type": "code",
   "execution_count": 53,
   "metadata": {
    "ExecuteTime": {
     "end_time": "2019-11-04T03:39:47.127741Z",
     "start_time": "2019-11-04T03:39:47.124716Z"
    }
   },
   "outputs": [
    {
     "name": "stdout",
     "output_type": "stream",
     "text": [
      "U dun say so early hor... U c already then say...\n"
     ]
    }
   ],
   "source": [
    "message4 = messages['message'][3]\n",
    "print(message4)"
   ]
  },
  {
   "cell_type": "markdown",
   "metadata": {},
   "source": [
    "Now let's see its vector representation:"
   ]
  },
  {
   "cell_type": "code",
   "execution_count": 54,
   "metadata": {
    "ExecuteTime": {
     "end_time": "2019-11-04T03:39:59.092811Z",
     "start_time": "2019-11-04T03:39:59.088851Z"
    }
   },
   "outputs": [
    {
     "name": "stdout",
     "output_type": "stream",
     "text": [
      "  (0, 4601)\t1\n",
      "  (0, 5232)\t1\n",
      "  (0, 6188)\t1\n",
      "  (0, 7149)\t1\n",
      "  (0, 9514)\t2\n",
      "(1, 11372)\n"
     ]
    }
   ],
   "source": [
    "bow4 = bow_transformer.transform([message4])\n",
    "print(bow4)\n",
    "print(bow4.shape)"
   ]
  },
  {
   "cell_type": "markdown",
   "metadata": {},
   "source": [
    "This means that there are seven unique words in message number 4 (after removing common stop words). Two of them appear twice, the rest only once. Let's go ahead and check and confirm which ones appear twice:"
   ]
  },
  {
   "cell_type": "code",
   "execution_count": 55,
   "metadata": {
    "ExecuteTime": {
     "end_time": "2019-11-04T03:40:48.863068Z",
     "start_time": "2019-11-04T03:40:48.836175Z"
    }
   },
   "outputs": [
    {
     "name": "stdout",
     "output_type": "stream",
     "text": [
      "already\n",
      "say\n",
      "early\n",
      "c\n"
     ]
    }
   ],
   "source": [
    "print(bow_transformer.get_feature_names()[4601])\n",
    "print(bow_transformer.get_feature_names()[9514])\n",
    "print(bow_transformer.get_feature_names()[6188])\n",
    "print(bow_transformer.get_feature_names()[5232])\n"
   ]
  },
  {
   "cell_type": "markdown",
   "metadata": {},
   "source": [
    "Now we can use **.transform** on our Bag-of-Words (bow) transformed object and transform the entire DataFrame of messages. Let's go ahead and check out how the bag-of-words counts for the entire SMS corpus is a large, sparse matrix:"
   ]
  },
  {
   "cell_type": "code",
   "execution_count": 56,
   "metadata": {
    "ExecuteTime": {
     "end_time": "2019-11-04T03:43:42.192641Z",
     "start_time": "2019-11-04T03:43:41.989152Z"
    }
   },
   "outputs": [],
   "source": [
    "messages_bow = bow_transformer.transform(messages['message'])"
   ]
  },
  {
   "cell_type": "code",
   "execution_count": 58,
   "metadata": {
    "ExecuteTime": {
     "end_time": "2019-11-04T03:49:30.870947Z",
     "start_time": "2019-11-04T03:49:30.866960Z"
    }
   },
   "outputs": [
    {
     "name": "stdout",
     "output_type": "stream",
     "text": [
      "Shape of Sparse Matrix:  (5572, 11372)\n",
      "Amount of Non-Zero occurences:  48847\n"
     ]
    }
   ],
   "source": [
    "print('Shape of Sparse Matrix: ', messages_bow.shape)\n",
    "print('Amount of Non-Zero occurences: ', messages_bow.nnz)"
   ]
  },
  {
   "cell_type": "code",
   "execution_count": 59,
   "metadata": {
    "ExecuteTime": {
     "end_time": "2019-11-04T03:50:12.072360Z",
     "start_time": "2019-11-04T03:50:12.068404Z"
    }
   },
   "outputs": [
    {
     "data": {
      "text/plain": [
       "63364784"
      ]
     },
     "execution_count": 59,
     "metadata": {},
     "output_type": "execute_result"
    }
   ],
   "source": [
    "5572*11372"
   ]
  },
  {
   "cell_type": "code",
   "execution_count": 35,
   "metadata": {
    "ExecuteTime": {
     "end_time": "2019-11-03T08:31:02.258383Z",
     "start_time": "2019-11-03T08:31:02.253365Z"
    }
   },
   "outputs": [
    {
     "name": "stdout",
     "output_type": "stream",
     "text": [
      "sparsity: 0.07708856073745947\n"
     ]
    }
   ],
   "source": [
    "sparsity = 100.0 * (messages_bow.nnz / (messages_bow.shape[0] * messages_bow.shape[1]))\n",
    "print('sparsity: {}'.format(sparsity))"
   ]
  },
  {
   "cell_type": "code",
   "execution_count": 60,
   "metadata": {
    "ExecuteTime": {
     "end_time": "2019-11-04T03:51:05.006011Z",
     "start_time": "2019-11-04T03:51:04.990054Z"
    }
   },
   "outputs": [
    {
     "data": {
      "text/plain": [
       "137"
      ]
     },
     "execution_count": 60,
     "metadata": {},
     "output_type": "execute_result"
    }
   ],
   "source": [
    "sum(messages['message'].str.contains('say', case = False))"
   ]
  },
  {
   "cell_type": "markdown",
   "metadata": {},
   "source": [
    "After the counting, the term weighting and normalization can be done with [TF-IDF](http://en.wikipedia.org/wiki/Tf%E2%80%93idf), using scikit-learn's `TfidfTransformer`.\n",
    "\n",
    "____\n",
    "### So what is TF-IDF?\n",
    "TF-IDF stands for *term frequency-inverse document frequency*, and the tf-idf weight is a weight often used in information retrieval and text mining. This weight is a statistical measure used to evaluate how important a word is to a document in a collection or corpus. The importance increases proportionally to the number of times a word appears in the document but is offset by the frequency of the word in the corpus. Variations of the tf-idf weighting scheme are often used by search engines as a central tool in scoring and ranking a document's relevance given a user query.\n",
    "\n",
    "One of the simplest ranking functions is computed by summing the tf-idf for each query term; many more sophisticated ranking functions are variants of this simple model.\n",
    "\n",
    "Typically, the tf-idf weight is composed by two terms: the first computes the normalized Term Frequency (TF), aka. the number of times a word appears in a document, divided by the total number of words in that document; the second term is the Inverse Document Frequency (IDF), computed as the logarithm of the number of the documents in the corpus divided by the number of documents where the specific term appears.\n",
    "\n",
    "**TF: Term Frequency**, which measures how frequently a term occurs in a document. Since every document is different in length, it is possible that a term would appear much more times in long documents than shorter ones. Thus, the term frequency is often divided by the document length (aka. the total number of terms in the document) as a way of normalization: \n",
    "\n",
    "*TF(total) = (Number of times term total appears in a document) / (Total number of terms in the document).*\n",
    "\n",
    "**IDF: Inverse Document Frequency**, which measures how important a term is. While computing TF, all terms are considered equally important. However it is known that certain terms, such as \"is\", \"of\", and \"that\", may appear a lot of times but have little importance. Thus we need to weigh down the frequent terms while scale up the rare ones, by computing the following: \n",
    "\n",
    "*IDF(total) = $log_e$(Total number of documents / Number of documents with term total in it).*\n",
    "\n",
    "See below for a simple example.\n",
    "\n",
    "**Example:**\n",
    "\n",
    "Consider a document containing 100 words wherein the word cat appears 3 times. \n",
    "\n",
    "The term frequency (i.e., tf) for cat is then (3 / 100) = 0.03. Now, assume we have 10 million documents and the word cat appears in one thousand of these. Then, the inverse document frequency (i.e., idf) is calculated as $log_e$(10,000,000 / 1,000) = 4. Thus, the Tf-idf weight is the product of these quantities: 0.03 * 4 = 0.12.\n",
    "____\n",
    "\n",
    "Let's go ahead and see how we can do this in SciKit Learn:"
   ]
  },
  {
   "cell_type": "code",
   "execution_count": 61,
   "metadata": {
    "ExecuteTime": {
     "end_time": "2019-11-04T04:02:09.345158Z",
     "start_time": "2019-11-04T04:02:09.333190Z"
    }
   },
   "outputs": [
    {
     "name": "stdout",
     "output_type": "stream",
     "text": [
      "  (0, 9514)\t0.6245712864226955\n",
      "  (0, 7149)\t0.5090349049250255\n",
      "  (0, 6188)\t0.369621666590601\n",
      "  (0, 5232)\t0.3447784312493634\n",
      "  (0, 4601)\t0.30870994586550676\n"
     ]
    }
   ],
   "source": [
    "from sklearn.feature_extraction.text import TfidfTransformer\n",
    "\n",
    "tfidf_transformer = TfidfTransformer().fit(messages_bow)\n",
    "tfidf4 = tfidf_transformer.transform(bow4)\n",
    "print(tfidf4)"
   ]
  },
  {
   "cell_type": "markdown",
   "metadata": {},
   "source": [
    "We'll go ahead and check what is the IDF (inverse document frequency) of the word `\"u\"` and of word `\"university\"`?"
   ]
  },
  {
   "cell_type": "code",
   "execution_count": 63,
   "metadata": {
    "ExecuteTime": {
     "end_time": "2019-11-04T04:03:19.088450Z",
     "start_time": "2019-11-04T04:03:19.083463Z"
    }
   },
   "outputs": [
    {
     "name": "stdout",
     "output_type": "stream",
     "text": [
      "5.775541185859478\n",
      "8.527076498901426\n"
     ]
    }
   ],
   "source": [
    "print(tfidf_transformer.idf_[bow_transformer.vocabulary_['c']])\n",
    "print(tfidf_transformer.idf_[bow_transformer.vocabulary_['university']])"
   ]
  },
  {
   "cell_type": "markdown",
   "metadata": {},
   "source": [
    "To transform the entire bag-of-words corpus into TF-IDF corpus at once:"
   ]
  },
  {
   "cell_type": "code",
   "execution_count": 64,
   "metadata": {
    "ExecuteTime": {
     "end_time": "2019-11-04T04:03:58.746312Z",
     "start_time": "2019-11-04T04:03:58.740329Z"
    }
   },
   "outputs": [
    {
     "name": "stdout",
     "output_type": "stream",
     "text": [
      "(5572, 11372)\n"
     ]
    }
   ],
   "source": [
    "messages_tfidf = tfidf_transformer.transform(messages_bow)\n",
    "print(messages_tfidf.shape)"
   ]
  },
  {
   "cell_type": "code",
   "execution_count": 65,
   "metadata": {
    "ExecuteTime": {
     "end_time": "2019-11-04T04:04:03.434663Z",
     "start_time": "2019-11-04T04:04:03.429677Z"
    }
   },
   "outputs": [
    {
     "name": "stdout",
     "output_type": "stream",
     "text": [
      "  (0, 11115)\t0.23368731546484867\n",
      "  (0, 10920)\t0.19356751519955978\n",
      "  (0, 8877)\t0.2507162340087826\n",
      "  (0, 7630)\t0.2679558860819871\n",
      "  (0, 7517)\t0.3171811131121076\n",
      "  (0, 6903)\t0.18619455375770394\n",
      "  (0, 6872)\t0.15383643628213323\n",
      "  (0, 6183)\t0.19196535642818258\n",
      "  (0, 5739)\t0.2535584301309341\n",
      "  (0, 5189)\t0.2726973849309619\n",
      "  (0, 5188)\t0.30278365716105465\n",
      "  (0, 4625)\t0.3171811131121076\n",
      "  (0, 2053)\t0.2456349383518318\n",
      "  (0, 1483)\t0.3171811131121076\n",
      "  (0, 1110)\t0.2925684995970474\n",
      "  (1, 7663)\t0.5114666111551778\n",
      "  (1, 3051)\t0.39533577569629436\n",
      "  (1, 2439)\t0.7629623386039754\n",
      "  (2, 11076)\t0.19104387220509106\n",
      "  (2, 11037)\t0.15898145347176754\n",
      "  (2, 10643)\t0.13995540820792943\n",
      "  (2, 10469)\t0.2118842499614227\n",
      "  (2, 9212)\t0.16121646071144807\n",
      "  (2, 9160)\t0.22538631044314436\n",
      "  (2, 9119)\t0.22538631044314436\n",
      "  :\t:\n",
      "  (5568, 6848)\t0.31367469776242124\n",
      "  (5568, 6657)\t0.47781076401785183\n",
      "  (5568, 6320)\t0.5575721048646767\n",
      "  (5568, 4851)\t0.3853122086093004\n",
      "  (5569, 10157)\t0.520467167163554\n",
      "  (5569, 8214)\t0.4328299709057074\n",
      "  (5569, 3706)\t0.520467167163554\n",
      "  (5569, 3215)\t0.520467167163554\n",
      "  (5570, 10961)\t0.20434525994453323\n",
      "  (5570, 10743)\t0.22867843486502568\n",
      "  (5570, 9873)\t0.22380228376189748\n",
      "  (5570, 8381)\t0.22651675757217207\n",
      "  (5570, 7762)\t0.17243888184764117\n",
      "  (5570, 7357)\t0.3071475234812021\n",
      "  (5570, 7250)\t0.26786677935500575\n",
      "  (5570, 6950)\t0.2641640440122445\n",
      "  (5570, 6765)\t0.294185812624235\n",
      "  (5570, 6665)\t0.2008376534326777\n",
      "  (5570, 6248)\t0.2607702439080329\n",
      "  (5570, 5222)\t0.302353515740512\n",
      "  (5570, 5026)\t0.36357250744470165\n",
      "  (5570, 4480)\t0.3470692575834817\n",
      "  (5571, 10605)\t0.539218119882165\n",
      "  (5571, 8309)\t0.48542915408134024\n",
      "  (5571, 3418)\t0.6881877327870772\n"
     ]
    }
   ],
   "source": [
    "print(messages_tfidf)"
   ]
  },
  {
   "cell_type": "markdown",
   "metadata": {},
   "source": [
    "There are many ways the data can be preprocessed and vectorized. These steps involve feature engineering and building a \"pipeline\". I encourage you to check out SciKit Learn's documentation on dealing with text data as well as the expansive collection of available papers and books on the general topic of NLP."
   ]
  },
  {
   "cell_type": "markdown",
   "metadata": {},
   "source": [
    "## Feature Reduction\n",
    "\n",
    "We could use method called Truncated Singluar Value Decomposition (SVD) or Latent Semantic Analysis (LSA) to try reduce the feature that the text document have. LSA work like PCA, the only difference is LSA did not center the data at all. This method cannot be used with NaiveBayes Classifier which we would work with next, so just use this method with another classifier."
   ]
  },
  {
   "cell_type": "code",
   "execution_count": 66,
   "metadata": {
    "ExecuteTime": {
     "end_time": "2019-11-04T04:08:33.907674Z",
     "start_time": "2019-11-04T04:08:33.893746Z"
    }
   },
   "outputs": [],
   "source": [
    "from sklearn.decomposition import TruncatedSVD"
   ]
  },
  {
   "cell_type": "code",
   "execution_count": 67,
   "metadata": {
    "ExecuteTime": {
     "end_time": "2019-11-04T04:08:34.271091Z",
     "start_time": "2019-11-04T04:08:34.267101Z"
    }
   },
   "outputs": [],
   "source": [
    "lsa = TruncatedSVD(n_components = 100)"
   ]
  },
  {
   "cell_type": "code",
   "execution_count": 68,
   "metadata": {
    "ExecuteTime": {
     "end_time": "2019-11-04T04:08:35.252642Z",
     "start_time": "2019-11-04T04:08:34.623293Z"
    }
   },
   "outputs": [],
   "source": [
    "message_lsa = pd.DataFrame(lsa.fit_transform(messages_tfidf))"
   ]
  },
  {
   "cell_type": "code",
   "execution_count": 69,
   "metadata": {
    "ExecuteTime": {
     "end_time": "2019-11-04T04:08:44.381308Z",
     "start_time": "2019-11-04T04:08:44.364390Z"
    }
   },
   "outputs": [
    {
     "data": {
      "text/html": [
       "<div>\n",
       "<style scoped>\n",
       "    .dataframe tbody tr th:only-of-type {\n",
       "        vertical-align: middle;\n",
       "    }\n",
       "\n",
       "    .dataframe tbody tr th {\n",
       "        vertical-align: top;\n",
       "    }\n",
       "\n",
       "    .dataframe thead th {\n",
       "        text-align: right;\n",
       "    }\n",
       "</style>\n",
       "<table border=\"1\" class=\"dataframe\">\n",
       "  <thead>\n",
       "    <tr style=\"text-align: right;\">\n",
       "      <th></th>\n",
       "      <th>0</th>\n",
       "      <th>1</th>\n",
       "      <th>2</th>\n",
       "      <th>3</th>\n",
       "      <th>4</th>\n",
       "      <th>5</th>\n",
       "      <th>6</th>\n",
       "      <th>7</th>\n",
       "      <th>8</th>\n",
       "      <th>9</th>\n",
       "      <th>...</th>\n",
       "      <th>90</th>\n",
       "      <th>91</th>\n",
       "      <th>92</th>\n",
       "      <th>93</th>\n",
       "      <th>94</th>\n",
       "      <th>95</th>\n",
       "      <th>96</th>\n",
       "      <th>97</th>\n",
       "      <th>98</th>\n",
       "      <th>99</th>\n",
       "    </tr>\n",
       "  </thead>\n",
       "  <tbody>\n",
       "    <tr>\n",
       "      <th>0</th>\n",
       "      <td>0.020456</td>\n",
       "      <td>0.032636</td>\n",
       "      <td>-0.045071</td>\n",
       "      <td>-0.009767</td>\n",
       "      <td>0.035284</td>\n",
       "      <td>0.006138</td>\n",
       "      <td>-0.023373</td>\n",
       "      <td>-0.007197</td>\n",
       "      <td>0.003945</td>\n",
       "      <td>-0.041211</td>\n",
       "      <td>...</td>\n",
       "      <td>0.039090</td>\n",
       "      <td>0.001045</td>\n",
       "      <td>-0.003246</td>\n",
       "      <td>-0.007549</td>\n",
       "      <td>-0.028377</td>\n",
       "      <td>-0.017730</td>\n",
       "      <td>-0.012202</td>\n",
       "      <td>-0.002242</td>\n",
       "      <td>0.033312</td>\n",
       "      <td>-0.012603</td>\n",
       "    </tr>\n",
       "    <tr>\n",
       "      <th>1</th>\n",
       "      <td>0.063117</td>\n",
       "      <td>0.334372</td>\n",
       "      <td>0.198418</td>\n",
       "      <td>-0.001392</td>\n",
       "      <td>-0.038149</td>\n",
       "      <td>-0.017277</td>\n",
       "      <td>0.011866</td>\n",
       "      <td>-0.004448</td>\n",
       "      <td>0.000557</td>\n",
       "      <td>0.007701</td>\n",
       "      <td>...</td>\n",
       "      <td>0.022533</td>\n",
       "      <td>-0.006882</td>\n",
       "      <td>0.002341</td>\n",
       "      <td>-0.022500</td>\n",
       "      <td>-0.018367</td>\n",
       "      <td>0.049816</td>\n",
       "      <td>0.017455</td>\n",
       "      <td>-0.009391</td>\n",
       "      <td>0.012390</td>\n",
       "      <td>0.000513</td>\n",
       "    </tr>\n",
       "    <tr>\n",
       "      <th>2</th>\n",
       "      <td>0.015461</td>\n",
       "      <td>0.017847</td>\n",
       "      <td>-0.034139</td>\n",
       "      <td>-0.003953</td>\n",
       "      <td>0.062293</td>\n",
       "      <td>-0.051803</td>\n",
       "      <td>0.008148</td>\n",
       "      <td>-0.021166</td>\n",
       "      <td>-0.019726</td>\n",
       "      <td>0.024130</td>\n",
       "      <td>...</td>\n",
       "      <td>0.102323</td>\n",
       "      <td>0.042795</td>\n",
       "      <td>0.012719</td>\n",
       "      <td>0.025444</td>\n",
       "      <td>-0.008029</td>\n",
       "      <td>-0.061355</td>\n",
       "      <td>-0.038551</td>\n",
       "      <td>0.026823</td>\n",
       "      <td>0.083838</td>\n",
       "      <td>-0.037677</td>\n",
       "    </tr>\n",
       "    <tr>\n",
       "      <th>3</th>\n",
       "      <td>0.021557</td>\n",
       "      <td>0.040135</td>\n",
       "      <td>-0.048531</td>\n",
       "      <td>-0.012496</td>\n",
       "      <td>0.046033</td>\n",
       "      <td>0.019148</td>\n",
       "      <td>-0.029554</td>\n",
       "      <td>0.000415</td>\n",
       "      <td>0.009256</td>\n",
       "      <td>-0.030890</td>\n",
       "      <td>...</td>\n",
       "      <td>-0.061936</td>\n",
       "      <td>-0.019473</td>\n",
       "      <td>0.018744</td>\n",
       "      <td>0.012042</td>\n",
       "      <td>0.050126</td>\n",
       "      <td>-0.040024</td>\n",
       "      <td>0.053866</td>\n",
       "      <td>0.036006</td>\n",
       "      <td>0.023942</td>\n",
       "      <td>-0.011430</td>\n",
       "    </tr>\n",
       "    <tr>\n",
       "      <th>4</th>\n",
       "      <td>0.019844</td>\n",
       "      <td>0.020327</td>\n",
       "      <td>-0.047884</td>\n",
       "      <td>-0.040379</td>\n",
       "      <td>-0.044761</td>\n",
       "      <td>-0.000345</td>\n",
       "      <td>-0.024295</td>\n",
       "      <td>-0.002302</td>\n",
       "      <td>-0.010296</td>\n",
       "      <td>-0.038868</td>\n",
       "      <td>...</td>\n",
       "      <td>-0.005052</td>\n",
       "      <td>-0.033403</td>\n",
       "      <td>0.017412</td>\n",
       "      <td>-0.045813</td>\n",
       "      <td>-0.035099</td>\n",
       "      <td>0.043839</td>\n",
       "      <td>0.052031</td>\n",
       "      <td>-0.002884</td>\n",
       "      <td>0.024607</td>\n",
       "      <td>0.006549</td>\n",
       "    </tr>\n",
       "  </tbody>\n",
       "</table>\n",
       "<p>5 rows × 100 columns</p>\n",
       "</div>"
      ],
      "text/plain": [
       "         0         1         2         3         4         5         6   \\\n",
       "0  0.020456  0.032636 -0.045071 -0.009767  0.035284  0.006138 -0.023373   \n",
       "1  0.063117  0.334372  0.198418 -0.001392 -0.038149 -0.017277  0.011866   \n",
       "2  0.015461  0.017847 -0.034139 -0.003953  0.062293 -0.051803  0.008148   \n",
       "3  0.021557  0.040135 -0.048531 -0.012496  0.046033  0.019148 -0.029554   \n",
       "4  0.019844  0.020327 -0.047884 -0.040379 -0.044761 -0.000345 -0.024295   \n",
       "\n",
       "         7         8         9   ...        90        91        92        93  \\\n",
       "0 -0.007197  0.003945 -0.041211  ...  0.039090  0.001045 -0.003246 -0.007549   \n",
       "1 -0.004448  0.000557  0.007701  ...  0.022533 -0.006882  0.002341 -0.022500   \n",
       "2 -0.021166 -0.019726  0.024130  ...  0.102323  0.042795  0.012719  0.025444   \n",
       "3  0.000415  0.009256 -0.030890  ... -0.061936 -0.019473  0.018744  0.012042   \n",
       "4 -0.002302 -0.010296 -0.038868  ... -0.005052 -0.033403  0.017412 -0.045813   \n",
       "\n",
       "         94        95        96        97        98        99  \n",
       "0 -0.028377 -0.017730 -0.012202 -0.002242  0.033312 -0.012603  \n",
       "1 -0.018367  0.049816  0.017455 -0.009391  0.012390  0.000513  \n",
       "2 -0.008029 -0.061355 -0.038551  0.026823  0.083838 -0.037677  \n",
       "3  0.050126 -0.040024  0.053866  0.036006  0.023942 -0.011430  \n",
       "4 -0.035099  0.043839  0.052031 -0.002884  0.024607  0.006549  \n",
       "\n",
       "[5 rows x 100 columns]"
      ]
     },
     "execution_count": 69,
     "metadata": {},
     "output_type": "execute_result"
    }
   ],
   "source": [
    "message_lsa.head()"
   ]
  },
  {
   "cell_type": "markdown",
   "metadata": {},
   "source": [
    "## Training a model"
   ]
  },
  {
   "cell_type": "markdown",
   "metadata": {},
   "source": [
    "With messages represented as vectors, we can finally train our spam/ham classifier. Now we can actually use almost any sort of classification algorithms. For a [variety of reasons](http://www.inf.ed.ac.uk/teaching/courses/inf2b/learnnotes/inf2b-learn-note07-2up.pdf), the Naive Bayes classifier algorithm is a good choice."
   ]
  },
  {
   "cell_type": "markdown",
   "metadata": {},
   "source": [
    "We'll be using scikit-learn here, choosing the [Naive Bayes](http://en.wikipedia.org/wiki/Naive_Bayes_classifier) classifier to start with:"
   ]
  },
  {
   "cell_type": "code",
   "execution_count": 72,
   "metadata": {
    "ExecuteTime": {
     "end_time": "2019-11-04T04:41:28.301223Z",
     "start_time": "2019-11-04T04:41:28.286264Z"
    }
   },
   "outputs": [],
   "source": [
    "from sklearn.naive_bayes import MultinomialNB\n",
    "spam_detect_model = MultinomialNB().fit(messages_tfidf, messages['label'])"
   ]
  },
  {
   "cell_type": "markdown",
   "metadata": {},
   "source": [
    "Let's try classifying our single random message and checking how we do:"
   ]
  },
  {
   "cell_type": "code",
   "execution_count": 71,
   "metadata": {
    "ExecuteTime": {
     "end_time": "2019-11-04T04:41:20.980486Z",
     "start_time": "2019-11-04T04:41:20.974497Z"
    }
   },
   "outputs": [
    {
     "name": "stdout",
     "output_type": "stream",
     "text": [
      "predicted: ham\n",
      "expected: ham\n"
     ]
    }
   ],
   "source": [
    "print('predicted:', spam_detect_model.predict(tfidf4)[0])\n",
    "print('expected:', messages.label[3])"
   ]
  },
  {
   "cell_type": "code",
   "execution_count": 73,
   "metadata": {
    "ExecuteTime": {
     "end_time": "2019-11-04T04:42:36.389240Z",
     "start_time": "2019-11-04T04:42:36.385220Z"
    }
   },
   "outputs": [
    {
     "data": {
      "text/plain": [
       "array(['ham'], dtype='<U4')"
      ]
     },
     "execution_count": 73,
     "metadata": {},
     "output_type": "execute_result"
    }
   ],
   "source": [
    "spam_detect_model.predict(tfidf4)"
   ]
  },
  {
   "cell_type": "code",
   "execution_count": 74,
   "metadata": {
    "ExecuteTime": {
     "end_time": "2019-11-04T04:42:51.968284Z",
     "start_time": "2019-11-04T04:42:51.963295Z"
    }
   },
   "outputs": [
    {
     "data": {
      "text/plain": [
       "array([[0.99589751, 0.00410249]])"
      ]
     },
     "execution_count": 74,
     "metadata": {},
     "output_type": "execute_result"
    }
   ],
   "source": [
    "spam_detect_model.predict_proba(tfidf4)"
   ]
  },
  {
   "cell_type": "markdown",
   "metadata": {},
   "source": [
    "Fantastic! We've developed a model that can attempt to predict spam vs ham classification!\n",
    "\n",
    "## Part 6: Model Evaluation\n",
    "Now we want to determine how well our model will do overall on the entire dataset. Let's begin by getting all the predictions:"
   ]
  },
  {
   "cell_type": "code",
   "execution_count": 75,
   "metadata": {
    "ExecuteTime": {
     "end_time": "2019-11-04T04:44:04.632375Z",
     "start_time": "2019-11-04T04:44:04.628353Z"
    }
   },
   "outputs": [
    {
     "name": "stdout",
     "output_type": "stream",
     "text": [
      "['ham' 'ham' 'spam' ... 'ham' 'ham' 'ham']\n"
     ]
    }
   ],
   "source": [
    "all_predictions = spam_detect_model.predict(messages_tfidf)\n",
    "print(all_predictions)"
   ]
  },
  {
   "cell_type": "markdown",
   "metadata": {},
   "source": [
    "We can use SciKit Learn's built-in classification report, which returns [precision, recall,](https://en.wikipedia.org/wiki/Precision_and_recall) [f1-score](https://en.wikipedia.org/wiki/F1_score), and a column for support (meaning how many cases supported that classification). Check out the links for more detailed info on each of these metrics and the figure below:"
   ]
  },
  {
   "cell_type": "markdown",
   "metadata": {},
   "source": [
    "<img src='https://upload.wikimedia.org/wikipedia/commons/thumb/2/26/Precisionrecall.svg/700px-Precisionrecall.svg.png' width=400 />"
   ]
  },
  {
   "cell_type": "code",
   "execution_count": 76,
   "metadata": {
    "ExecuteTime": {
     "end_time": "2019-11-04T04:44:07.083501Z",
     "start_time": "2019-11-04T04:44:06.978781Z"
    }
   },
   "outputs": [
    {
     "name": "stdout",
     "output_type": "stream",
     "text": [
      "              precision    recall  f1-score   support\n",
      "\n",
      "         ham       0.98      1.00      0.99      4825\n",
      "        spam       1.00      0.86      0.92       747\n",
      "\n",
      "    accuracy                           0.98      5572\n",
      "   macro avg       0.99      0.93      0.96      5572\n",
      "weighted avg       0.98      0.98      0.98      5572\n",
      "\n"
     ]
    }
   ],
   "source": [
    "from sklearn.metrics import classification_report\n",
    "print (classification_report(messages['label'], all_predictions))"
   ]
  },
  {
   "cell_type": "markdown",
   "metadata": {},
   "source": [
    "There are quite a few possible metrics for evaluating model performance. Which one is the most important depends on the task and the business effects of decisions based off of the model. For example, the cost of mis-predicting \"spam\" as \"ham\" is probably much lower than mis-predicting \"ham\" as \"spam\"."
   ]
  },
  {
   "cell_type": "markdown",
   "metadata": {},
   "source": [
    "In the above \"evaluation\",we evaluated accuracy on the same data we used for training. **You should never actually evaluate on the same dataset you train on!**\n",
    "\n",
    "Such evaluation tells us nothing about the true predictive power of our model. If we simply remembered each example during training, the accuracy on training data would trivially be 100%, even though we wouldn't be able to classify any new messages.\n",
    "\n",
    "A proper way is to split the data into a training/test set, where the model only ever sees the **training data** during its model fitting and parameter tuning. The **test data** is never used in any way. This is then our final evaluation on test data is representative of true predictive performance.\n",
    "\n",
    "## Train Test Split"
   ]
  },
  {
   "cell_type": "code",
   "execution_count": 77,
   "metadata": {
    "ExecuteTime": {
     "end_time": "2019-11-04T04:46:23.460764Z",
     "start_time": "2019-11-04T04:46:23.454780Z"
    }
   },
   "outputs": [],
   "source": [
    "messages['label'] = messages['label'].apply(lambda x: 0 if x == 'ham' else 1)"
   ]
  },
  {
   "cell_type": "code",
   "execution_count": 78,
   "metadata": {
    "ExecuteTime": {
     "end_time": "2019-11-04T04:46:23.613725Z",
     "start_time": "2019-11-04T04:46:23.607741Z"
    }
   },
   "outputs": [
    {
     "name": "stdout",
     "output_type": "stream",
     "text": [
      "4457 1115 5572\n"
     ]
    }
   ],
   "source": [
    "from sklearn.model_selection import train_test_split\n",
    "\n",
    "msg_train, msg_test, label_train, label_test = train_test_split(messages['message'], messages['label'], test_size=0.2)\n",
    "\n",
    "print(len(msg_train), len(msg_test), len(msg_train) + len(msg_test))"
   ]
  },
  {
   "cell_type": "markdown",
   "metadata": {},
   "source": [
    "The test size is 20% of the entire dataset (1115 messages out of total 5572), and the training is the rest (4457 out of 5572). Note the default split would have been 30/70.\n",
    "\n",
    "## Creating a Data Pipeline\n",
    "\n",
    "Let's run our model again and then predict off the test set. We will use SciKit Learn's [pipeline](http://scikit-learn.org/stable/modules/pipeline.html) capabilities to store a pipeline of workflow. This will allow us to set up all the transformations that we will do to the data for future use. Let's see an example of how it works:"
   ]
  },
  {
   "cell_type": "code",
   "execution_count": 86,
   "metadata": {
    "ExecuteTime": {
     "end_time": "2019-11-04T04:48:21.151262Z",
     "start_time": "2019-11-04T04:48:20.973737Z"
    }
   },
   "outputs": [],
   "source": [
    "from sklearn.pipeline import Pipeline\n",
    "from sklearn.ensemble import RandomForestClassifier\n",
    "pipeline = Pipeline([\n",
    "    ('bow', CountVectorizer(analyzer=text_process)),  # strings to token integer counts\n",
    "    ('tfidf', TfidfTransformer()),  # integer counts to weighted TF-IDF scores\n",
    "    ('classifier', RandomForestClassifier()),  # train on TF-IDF vectors\n",
    "])"
   ]
  },
  {
   "cell_type": "markdown",
   "metadata": {},
   "source": [
    "Now we can directly pass message text data and the pipeline will do our pre-processing for us! We can treat it as a model/estimator API:"
   ]
  },
  {
   "cell_type": "code",
   "execution_count": 88,
   "metadata": {
    "ExecuteTime": {
     "end_time": "2019-11-04T04:48:40.567291Z",
     "start_time": "2019-11-04T04:48:40.330891Z"
    }
   },
   "outputs": [
    {
     "data": {
      "text/plain": [
       "Pipeline(memory=None,\n",
       "         steps=[('bow',\n",
       "                 CountVectorizer(analyzer=<function text_process at 0x000001FB997408C8>,\n",
       "                                 binary=False, decode_error='strict',\n",
       "                                 dtype=<class 'numpy.int64'>, encoding='utf-8',\n",
       "                                 input='content', lowercase=True, max_df=1.0,\n",
       "                                 max_features=None, min_df=1,\n",
       "                                 ngram_range=(1, 1), preprocessor=None,\n",
       "                                 stop_words=None, strip_accents=None,\n",
       "                                 token_pattern='(?u)\\\\b\\\\w\\\\w...\n",
       "                 RandomForestClassifier(bootstrap=True, class_weight=None,\n",
       "                                        criterion='gini', max_depth=None,\n",
       "                                        max_features='auto',\n",
       "                                        max_leaf_nodes=None,\n",
       "                                        min_impurity_decrease=0.0,\n",
       "                                        min_impurity_split=None,\n",
       "                                        min_samples_leaf=1, min_samples_split=2,\n",
       "                                        min_weight_fraction_leaf=0.0,\n",
       "                                        n_estimators=10, n_jobs=None,\n",
       "                                        oob_score=False, random_state=None,\n",
       "                                        verbose=0, warm_start=False))],\n",
       "         verbose=False)"
      ]
     },
     "execution_count": 88,
     "metadata": {},
     "output_type": "execute_result"
    }
   ],
   "source": [
    "pipeline.fit(msg_train,label_train)"
   ]
  },
  {
   "cell_type": "code",
   "execution_count": 89,
   "metadata": {
    "ExecuteTime": {
     "end_time": "2019-11-04T04:48:40.659048Z",
     "start_time": "2019-11-04T04:48:40.607152Z"
    }
   },
   "outputs": [
    {
     "data": {
      "text/plain": [
       "array([0, 0, 1, ..., 0, 0, 0], dtype=int64)"
      ]
     },
     "execution_count": 89,
     "metadata": {},
     "output_type": "execute_result"
    }
   ],
   "source": [
    "predictions = pipeline.predict(msg_test)\n",
    "predictions\n"
   ]
  },
  {
   "cell_type": "code",
   "execution_count": 90,
   "metadata": {
    "ExecuteTime": {
     "end_time": "2019-11-04T04:48:41.186817Z",
     "start_time": "2019-11-04T04:48:41.135772Z"
    }
   },
   "outputs": [],
   "source": [
    "predictProba = pipeline.predict_proba(msg_test)\n",
    "\n",
    "predictions = [0 if prob > 0.60 else 1 for prob in predictProba[:,0]]"
   ]
  },
  {
   "cell_type": "code",
   "execution_count": 91,
   "metadata": {
    "ExecuteTime": {
     "end_time": "2019-11-04T04:48:41.753089Z",
     "start_time": "2019-11-04T04:48:41.747136Z"
    }
   },
   "outputs": [
    {
     "data": {
      "text/plain": [
       "array([[1., 0.],\n",
       "       [1., 0.],\n",
       "       [0., 1.],\n",
       "       ...,\n",
       "       [1., 0.],\n",
       "       [1., 0.],\n",
       "       [1., 0.]])"
      ]
     },
     "execution_count": 91,
     "metadata": {},
     "output_type": "execute_result"
    }
   ],
   "source": [
    "predictProba "
   ]
  },
  {
   "cell_type": "code",
   "execution_count": 92,
   "metadata": {
    "ExecuteTime": {
     "end_time": "2019-11-04T04:48:42.271734Z",
     "start_time": "2019-11-04T04:48:42.259763Z"
    }
   },
   "outputs": [
    {
     "name": "stdout",
     "output_type": "stream",
     "text": [
      "              precision    recall  f1-score   support\n",
      "\n",
      "           0       0.98      0.99      0.99       959\n",
      "           1       0.96      0.86      0.91       156\n",
      "\n",
      "    accuracy                           0.97      1115\n",
      "   macro avg       0.97      0.93      0.95      1115\n",
      "weighted avg       0.97      0.97      0.97      1115\n",
      "\n"
     ]
    }
   ],
   "source": [
    "print(classification_report(label_test, predictions))"
   ]
  },
  {
   "cell_type": "code",
   "execution_count": 93,
   "metadata": {
    "ExecuteTime": {
     "end_time": "2019-11-04T04:48:44.735823Z",
     "start_time": "2019-11-04T04:48:44.727879Z"
    }
   },
   "outputs": [
    {
     "data": {
      "text/plain": [
       "array([0], dtype=int64)"
      ]
     },
     "execution_count": 93,
     "metadata": {},
     "output_type": "execute_result"
    }
   ],
   "source": [
    "predictions = pipeline.predict(['Halo semua'])\n",
    "predictions"
   ]
  },
  {
   "cell_type": "markdown",
   "metadata": {},
   "source": [
    "Now we have a classification report for our model on a true testing set! There is a lot more to Natural Language Processing than what we've covered here, and its vast expanse of topic could fill up several college courses! I encourage you to check out the resources below for more information on NLP!"
   ]
  },
  {
   "cell_type": "markdown",
   "metadata": {},
   "source": [
    "## More Resources\n",
    "\n",
    "Check out the links below for more info on Natural Language Processing:\n",
    "\n",
    "[NLTK Book Online](http://www.nltk.org/book/)\n",
    "\n",
    "[Kaggle Walkthrough](https://www.kaggle.com/c/word2vec-nlp-tutorial/details/part-1-for-beginners-bag-of-words)\n",
    "\n",
    "[SciKit Learn's Tutorial](http://scikit-learn.org/stable/tutorial/text_analytics/working_with_text_data.html)"
   ]
  },
  {
   "cell_type": "markdown",
   "metadata": {},
   "source": [
    "# Good Job!"
   ]
  }
 ],
 "metadata": {
  "hide_input": false,
  "kernelspec": {
   "display_name": "Python 3",
   "language": "python",
   "name": "python3"
  },
  "language_info": {
   "codemirror_mode": {
    "name": "ipython",
    "version": 3
   },
   "file_extension": ".py",
   "mimetype": "text/x-python",
   "name": "python",
   "nbconvert_exporter": "python",
   "pygments_lexer": "ipython3",
   "version": "3.7.4"
  },
  "varInspector": {
   "cols": {
    "lenName": 16,
    "lenType": 16,
    "lenVar": 40
   },
   "kernels_config": {
    "python": {
     "delete_cmd_postfix": "",
     "delete_cmd_prefix": "del ",
     "library": "var_list.py",
     "varRefreshCmd": "print(var_dic_list())"
    },
    "r": {
     "delete_cmd_postfix": ") ",
     "delete_cmd_prefix": "rm(",
     "library": "var_list.r",
     "varRefreshCmd": "cat(var_dic_list()) "
    }
   },
   "types_to_exclude": [
    "module",
    "function",
    "builtin_function_or_method",
    "instance",
    "_Feature"
   ],
   "window_display": false
  }
 },
 "nbformat": 4,
 "nbformat_minor": 1
}
